{
 "cells": [
  {
   "cell_type": "markdown",
   "id": "bb489229-235c-4b47-a2d6-4ad1aaa3f742",
   "metadata": {},
   "source": [
    "## Tag Text"
   ]
  },
  {
   "cell_type": "markdown",
   "id": "41834fbb-0eab-4fa3-8130-c58883335a0f",
   "metadata": {},
   "source": [
    "In this guide we are going to show you how to tag text using the PyMUSAS RuleBasedTagger so that you can extract token level USAS semantic tags from the tagged text. The guide is broken down into different languages, for each guide we are going to:\n",
    "\n",
    "1. Download the relevant pre-configured PyMUSAS RuleBasedTagger spaCy component for the language.\n",
    "2. Download and use a Natural Language Processing (NLP) pipeline that will tokenise, lemmatise, and Part Of Speech (POS) tag. In most cases this will be a spaCy pipeline. Note that the PyMUSAS RuleBasedTagger only requires at minimum the data to be tokenised but having the lemma and POS tag will improve the accuracy of the tagging of the text.\n",
    "3. Run the PyMUSAS RuleBasedTagger.\n",
    "4. Extract token level linguistic information from the tagged text, which will include USAS semantic tags.\n",
    "5. For Chinese, Italian, Portuguese, Spanish, Welsh, and English taggers which support Multi Word Expression (MWE) identification and tagging we will show how to extract this information from the tagged text as well."
   ]
  },
  {
   "cell_type": "markdown",
   "id": "606a7b74-e1da-4993-8f3b-2e78350c41e8",
   "metadata": {},
   "source": [
    "### Tagging English text (single sentance)"
   ]
  },
  {
   "cell_type": "markdown",
   "id": "f7efa9e0-481b-4ac3-9527-904fd7a17485",
   "metadata": {},
   "source": [
    "First download both the English PyMUSAS RuleBasedTagger spaCy component and the small English spaCy model:"
   ]
  },
  {
   "cell_type": "markdown",
   "id": "181c1149-bc09-4106-8ffd-169fac516bb7",
   "metadata": {},
   "source": [
    "First we need to download the English PyMUSAS RuleBasedTagger spaCy component which will require using `pip install` to install the required package.  "
   ]
  },
  {
   "cell_type": "code",
   "execution_count": 1,
   "id": "15f6cd49-68bf-4065-b278-1b0c193a6041",
   "metadata": {
    "scrolled": true,
    "tags": []
   },
   "outputs": [
    {
     "name": "stdout",
     "output_type": "stream",
     "text": [
      "Collecting en-dual-none-contextual==0.3.2\n",
      "  Downloading https://github.com/UCREL/pymusas-models/releases/download/en_dual_none_contextual-0.3.2/en_dual_none_contextual-0.3.2-py3-none-any.whl (901 kB)\n",
      "\u001b[2K     \u001b[38;2;114;156;31m━━━━━━━━━━━━━━━━━━━━━━━━━━━━━━━━━━━━━━━\u001b[0m \u001b[32m901.5/901.5 kB\u001b[0m \u001b[31m4.0 MB/s\u001b[0m eta \u001b[36m0:00:00\u001b[0mm eta \u001b[36m0:00:01\u001b[0m0:01\u001b[0m:01\u001b[0m\n",
      "\u001b[?25hRequirement already satisfied: spacy<4.0,>=3.0 in /home/longr/.conda/envs/jupyter_pymusas/lib/python3.11/site-packages (from en-dual-none-contextual==0.3.2) (3.6.0)\n",
      "Requirement already satisfied: pymusas<0.4.0,>=0.3.0 in /home/longr/.conda/envs/jupyter_pymusas/lib/python3.11/site-packages (from en-dual-none-contextual==0.3.2) (0.3.0)\n",
      "Requirement already satisfied: srsly<3.0.0,>=2.4.1 in /home/longr/.conda/envs/jupyter_pymusas/lib/python3.11/site-packages (from pymusas<0.4.0,>=0.3.0->en-dual-none-contextual==0.3.2) (2.4.6)\n",
      "Requirement already satisfied: tqdm<5.0.0,>=4.50.0 in /home/longr/.conda/envs/jupyter_pymusas/lib/python3.11/site-packages (from pymusas<0.4.0,>=0.3.0->en-dual-none-contextual==0.3.2) (4.65.0)\n",
      "Requirement already satisfied: requests<3.0.0,>=2.13.0 in /home/longr/.conda/envs/jupyter_pymusas/lib/python3.11/site-packages (from pymusas<0.4.0,>=0.3.0->en-dual-none-contextual==0.3.2) (2.29.0)\n",
      "Requirement already satisfied: click<8.1.0 in /home/longr/.conda/envs/jupyter_pymusas/lib/python3.11/site-packages (from pymusas<0.4.0,>=0.3.0->en-dual-none-contextual==0.3.2) (8.0.4)\n",
      "Requirement already satisfied: spacy-legacy<3.1.0,>=3.0.11 in /home/longr/.conda/envs/jupyter_pymusas/lib/python3.11/site-packages (from spacy<4.0,>=3.0->en-dual-none-contextual==0.3.2) (3.0.12)\n",
      "Requirement already satisfied: spacy-loggers<2.0.0,>=1.0.0 in /home/longr/.conda/envs/jupyter_pymusas/lib/python3.11/site-packages (from spacy<4.0,>=3.0->en-dual-none-contextual==0.3.2) (1.0.4)\n",
      "Requirement already satisfied: murmurhash<1.1.0,>=0.28.0 in /home/longr/.conda/envs/jupyter_pymusas/lib/python3.11/site-packages (from spacy<4.0,>=3.0->en-dual-none-contextual==0.3.2) (1.0.9)\n",
      "Requirement already satisfied: cymem<2.1.0,>=2.0.2 in /home/longr/.conda/envs/jupyter_pymusas/lib/python3.11/site-packages (from spacy<4.0,>=3.0->en-dual-none-contextual==0.3.2) (2.0.7)\n",
      "Requirement already satisfied: preshed<3.1.0,>=3.0.2 in /home/longr/.conda/envs/jupyter_pymusas/lib/python3.11/site-packages (from spacy<4.0,>=3.0->en-dual-none-contextual==0.3.2) (3.0.8)\n",
      "Requirement already satisfied: thinc<8.2.0,>=8.1.8 in /home/longr/.conda/envs/jupyter_pymusas/lib/python3.11/site-packages (from spacy<4.0,>=3.0->en-dual-none-contextual==0.3.2) (8.1.10)\n",
      "Requirement already satisfied: wasabi<1.2.0,>=0.9.1 in /home/longr/.conda/envs/jupyter_pymusas/lib/python3.11/site-packages (from spacy<4.0,>=3.0->en-dual-none-contextual==0.3.2) (1.1.2)\n",
      "Requirement already satisfied: catalogue<2.1.0,>=2.0.6 in /home/longr/.conda/envs/jupyter_pymusas/lib/python3.11/site-packages (from spacy<4.0,>=3.0->en-dual-none-contextual==0.3.2) (2.0.8)\n",
      "Requirement already satisfied: typer<0.10.0,>=0.3.0 in /home/longr/.conda/envs/jupyter_pymusas/lib/python3.11/site-packages (from spacy<4.0,>=3.0->en-dual-none-contextual==0.3.2) (0.9.0)\n",
      "Requirement already satisfied: pathy>=0.10.0 in /home/longr/.conda/envs/jupyter_pymusas/lib/python3.11/site-packages (from spacy<4.0,>=3.0->en-dual-none-contextual==0.3.2) (0.10.2)\n",
      "Requirement already satisfied: smart-open<7.0.0,>=5.2.1 in /home/longr/.conda/envs/jupyter_pymusas/lib/python3.11/site-packages (from spacy<4.0,>=3.0->en-dual-none-contextual==0.3.2) (6.3.0)\n",
      "Requirement already satisfied: numpy>=1.15.0 in /home/longr/.conda/envs/jupyter_pymusas/lib/python3.11/site-packages (from spacy<4.0,>=3.0->en-dual-none-contextual==0.3.2) (1.25.1)\n",
      "Requirement already satisfied: pydantic!=1.8,!=1.8.1,<1.11.0,>=1.7.4 in /home/longr/.conda/envs/jupyter_pymusas/lib/python3.11/site-packages (from spacy<4.0,>=3.0->en-dual-none-contextual==0.3.2) (1.10.11)\n",
      "Requirement already satisfied: jinja2 in /home/longr/.conda/envs/jupyter_pymusas/lib/python3.11/site-packages (from spacy<4.0,>=3.0->en-dual-none-contextual==0.3.2) (3.1.2)\n",
      "Requirement already satisfied: setuptools in /home/longr/.conda/envs/jupyter_pymusas/lib/python3.11/site-packages (from spacy<4.0,>=3.0->en-dual-none-contextual==0.3.2) (67.8.0)\n",
      "Requirement already satisfied: packaging>=20.0 in /home/longr/.conda/envs/jupyter_pymusas/lib/python3.11/site-packages (from spacy<4.0,>=3.0->en-dual-none-contextual==0.3.2) (23.0)\n",
      "Requirement already satisfied: langcodes<4.0.0,>=3.2.0 in /home/longr/.conda/envs/jupyter_pymusas/lib/python3.11/site-packages (from spacy<4.0,>=3.0->en-dual-none-contextual==0.3.2) (3.3.0)\n",
      "Requirement already satisfied: typing-extensions>=4.2.0 in /home/longr/.conda/envs/jupyter_pymusas/lib/python3.11/site-packages (from pydantic!=1.8,!=1.8.1,<1.11.0,>=1.7.4->spacy<4.0,>=3.0->en-dual-none-contextual==0.3.2) (4.6.3)\n",
      "Requirement already satisfied: charset-normalizer<4,>=2 in /home/longr/.conda/envs/jupyter_pymusas/lib/python3.11/site-packages (from requests<3.0.0,>=2.13.0->pymusas<0.4.0,>=0.3.0->en-dual-none-contextual==0.3.2) (2.0.4)\n",
      "Requirement already satisfied: idna<4,>=2.5 in /home/longr/.conda/envs/jupyter_pymusas/lib/python3.11/site-packages (from requests<3.0.0,>=2.13.0->pymusas<0.4.0,>=0.3.0->en-dual-none-contextual==0.3.2) (3.4)\n",
      "Requirement already satisfied: urllib3<1.27,>=1.21.1 in /home/longr/.conda/envs/jupyter_pymusas/lib/python3.11/site-packages (from requests<3.0.0,>=2.13.0->pymusas<0.4.0,>=0.3.0->en-dual-none-contextual==0.3.2) (1.26.16)\n",
      "Requirement already satisfied: certifi>=2017.4.17 in /home/longr/.conda/envs/jupyter_pymusas/lib/python3.11/site-packages (from requests<3.0.0,>=2.13.0->pymusas<0.4.0,>=0.3.0->en-dual-none-contextual==0.3.2) (2023.5.7)\n",
      "Requirement already satisfied: blis<0.8.0,>=0.7.8 in /home/longr/.conda/envs/jupyter_pymusas/lib/python3.11/site-packages (from thinc<8.2.0,>=8.1.8->spacy<4.0,>=3.0->en-dual-none-contextual==0.3.2) (0.7.9)\n",
      "Requirement already satisfied: confection<1.0.0,>=0.0.1 in /home/longr/.conda/envs/jupyter_pymusas/lib/python3.11/site-packages (from thinc<8.2.0,>=8.1.8->spacy<4.0,>=3.0->en-dual-none-contextual==0.3.2) (0.1.0)\n",
      "Requirement already satisfied: MarkupSafe>=2.0 in /home/longr/.conda/envs/jupyter_pymusas/lib/python3.11/site-packages (from jinja2->spacy<4.0,>=3.0->en-dual-none-contextual==0.3.2) (2.1.1)\n"
     ]
    }
   ],
   "source": [
    "# Install a pip package in the current Jupyter kernel\n",
    "import sys \n",
    "!{sys.executable} -m pip install https://github.com/UCREL/pymusas-models/releases/download/en_dual_none_contextual-0.3.2/en_dual_none_contextual-0.3.2-py3-none-any.whl\n"
   ]
  },
  {
   "cell_type": "markdown",
   "id": "8a7ce28f-3171-4fb5-8607-889471ffef79",
   "metadata": {},
   "source": [
    "Now we need to install the small English spaCy model:"
   ]
  },
  {
   "cell_type": "code",
   "execution_count": 2,
   "id": "8de350dd-a5ca-47f3-a33e-6d9c405eacf6",
   "metadata": {
    "scrolled": true,
    "tags": []
   },
   "outputs": [
    {
     "name": "stdout",
     "output_type": "stream",
     "text": [
      "Collecting en-core-web-sm==3.6.0\n",
      "  Downloading https://github.com/explosion/spacy-models/releases/download/en_core_web_sm-3.6.0/en_core_web_sm-3.6.0-py3-none-any.whl (12.8 MB)\n",
      "\u001b[2K     \u001b[38;2;114;156;31m━━━━━━━━━━━━━━━━━━━━━━━━━━━━━━━━━━━━━━━━\u001b[0m \u001b[32m12.8/12.8 MB\u001b[0m \u001b[31m4.5 MB/s\u001b[0m eta \u001b[36m0:00:00\u001b[0mm eta \u001b[36m0:00:01\u001b[0m[36m0:00:01\u001b[0m\n",
      "\u001b[?25hRequirement already satisfied: spacy<3.7.0,>=3.6.0 in /home/longr/.conda/envs/jupyter_pymusas/lib/python3.11/site-packages (from en-core-web-sm==3.6.0) (3.6.0)\n",
      "Requirement already satisfied: spacy-legacy<3.1.0,>=3.0.11 in /home/longr/.conda/envs/jupyter_pymusas/lib/python3.11/site-packages (from spacy<3.7.0,>=3.6.0->en-core-web-sm==3.6.0) (3.0.12)\n",
      "Requirement already satisfied: spacy-loggers<2.0.0,>=1.0.0 in /home/longr/.conda/envs/jupyter_pymusas/lib/python3.11/site-packages (from spacy<3.7.0,>=3.6.0->en-core-web-sm==3.6.0) (1.0.4)\n",
      "Requirement already satisfied: murmurhash<1.1.0,>=0.28.0 in /home/longr/.conda/envs/jupyter_pymusas/lib/python3.11/site-packages (from spacy<3.7.0,>=3.6.0->en-core-web-sm==3.6.0) (1.0.9)\n",
      "Requirement already satisfied: cymem<2.1.0,>=2.0.2 in /home/longr/.conda/envs/jupyter_pymusas/lib/python3.11/site-packages (from spacy<3.7.0,>=3.6.0->en-core-web-sm==3.6.0) (2.0.7)\n",
      "Requirement already satisfied: preshed<3.1.0,>=3.0.2 in /home/longr/.conda/envs/jupyter_pymusas/lib/python3.11/site-packages (from spacy<3.7.0,>=3.6.0->en-core-web-sm==3.6.0) (3.0.8)\n",
      "Requirement already satisfied: thinc<8.2.0,>=8.1.8 in /home/longr/.conda/envs/jupyter_pymusas/lib/python3.11/site-packages (from spacy<3.7.0,>=3.6.0->en-core-web-sm==3.6.0) (8.1.10)\n",
      "Requirement already satisfied: wasabi<1.2.0,>=0.9.1 in /home/longr/.conda/envs/jupyter_pymusas/lib/python3.11/site-packages (from spacy<3.7.0,>=3.6.0->en-core-web-sm==3.6.0) (1.1.2)\n",
      "Requirement already satisfied: srsly<3.0.0,>=2.4.3 in /home/longr/.conda/envs/jupyter_pymusas/lib/python3.11/site-packages (from spacy<3.7.0,>=3.6.0->en-core-web-sm==3.6.0) (2.4.6)\n",
      "Requirement already satisfied: catalogue<2.1.0,>=2.0.6 in /home/longr/.conda/envs/jupyter_pymusas/lib/python3.11/site-packages (from spacy<3.7.0,>=3.6.0->en-core-web-sm==3.6.0) (2.0.8)\n",
      "Requirement already satisfied: typer<0.10.0,>=0.3.0 in /home/longr/.conda/envs/jupyter_pymusas/lib/python3.11/site-packages (from spacy<3.7.0,>=3.6.0->en-core-web-sm==3.6.0) (0.9.0)\n",
      "Requirement already satisfied: pathy>=0.10.0 in /home/longr/.conda/envs/jupyter_pymusas/lib/python3.11/site-packages (from spacy<3.7.0,>=3.6.0->en-core-web-sm==3.6.0) (0.10.2)\n",
      "Requirement already satisfied: smart-open<7.0.0,>=5.2.1 in /home/longr/.conda/envs/jupyter_pymusas/lib/python3.11/site-packages (from spacy<3.7.0,>=3.6.0->en-core-web-sm==3.6.0) (6.3.0)\n",
      "Requirement already satisfied: tqdm<5.0.0,>=4.38.0 in /home/longr/.conda/envs/jupyter_pymusas/lib/python3.11/site-packages (from spacy<3.7.0,>=3.6.0->en-core-web-sm==3.6.0) (4.65.0)\n",
      "Requirement already satisfied: numpy>=1.15.0 in /home/longr/.conda/envs/jupyter_pymusas/lib/python3.11/site-packages (from spacy<3.7.0,>=3.6.0->en-core-web-sm==3.6.0) (1.25.1)\n",
      "Requirement already satisfied: requests<3.0.0,>=2.13.0 in /home/longr/.conda/envs/jupyter_pymusas/lib/python3.11/site-packages (from spacy<3.7.0,>=3.6.0->en-core-web-sm==3.6.0) (2.29.0)\n",
      "Requirement already satisfied: pydantic!=1.8,!=1.8.1,<1.11.0,>=1.7.4 in /home/longr/.conda/envs/jupyter_pymusas/lib/python3.11/site-packages (from spacy<3.7.0,>=3.6.0->en-core-web-sm==3.6.0) (1.10.11)\n",
      "Requirement already satisfied: jinja2 in /home/longr/.conda/envs/jupyter_pymusas/lib/python3.11/site-packages (from spacy<3.7.0,>=3.6.0->en-core-web-sm==3.6.0) (3.1.2)\n",
      "Requirement already satisfied: setuptools in /home/longr/.conda/envs/jupyter_pymusas/lib/python3.11/site-packages (from spacy<3.7.0,>=3.6.0->en-core-web-sm==3.6.0) (67.8.0)\n",
      "Requirement already satisfied: packaging>=20.0 in /home/longr/.conda/envs/jupyter_pymusas/lib/python3.11/site-packages (from spacy<3.7.0,>=3.6.0->en-core-web-sm==3.6.0) (23.0)\n",
      "Requirement already satisfied: langcodes<4.0.0,>=3.2.0 in /home/longr/.conda/envs/jupyter_pymusas/lib/python3.11/site-packages (from spacy<3.7.0,>=3.6.0->en-core-web-sm==3.6.0) (3.3.0)\n",
      "Requirement already satisfied: typing-extensions>=4.2.0 in /home/longr/.conda/envs/jupyter_pymusas/lib/python3.11/site-packages (from pydantic!=1.8,!=1.8.1,<1.11.0,>=1.7.4->spacy<3.7.0,>=3.6.0->en-core-web-sm==3.6.0) (4.6.3)\n",
      "Requirement already satisfied: charset-normalizer<4,>=2 in /home/longr/.conda/envs/jupyter_pymusas/lib/python3.11/site-packages (from requests<3.0.0,>=2.13.0->spacy<3.7.0,>=3.6.0->en-core-web-sm==3.6.0) (2.0.4)\n",
      "Requirement already satisfied: idna<4,>=2.5 in /home/longr/.conda/envs/jupyter_pymusas/lib/python3.11/site-packages (from requests<3.0.0,>=2.13.0->spacy<3.7.0,>=3.6.0->en-core-web-sm==3.6.0) (3.4)\n",
      "Requirement already satisfied: urllib3<1.27,>=1.21.1 in /home/longr/.conda/envs/jupyter_pymusas/lib/python3.11/site-packages (from requests<3.0.0,>=2.13.0->spacy<3.7.0,>=3.6.0->en-core-web-sm==3.6.0) (1.26.16)\n",
      "Requirement already satisfied: certifi>=2017.4.17 in /home/longr/.conda/envs/jupyter_pymusas/lib/python3.11/site-packages (from requests<3.0.0,>=2.13.0->spacy<3.7.0,>=3.6.0->en-core-web-sm==3.6.0) (2023.5.7)\n",
      "Requirement already satisfied: blis<0.8.0,>=0.7.8 in /home/longr/.conda/envs/jupyter_pymusas/lib/python3.11/site-packages (from thinc<8.2.0,>=8.1.8->spacy<3.7.0,>=3.6.0->en-core-web-sm==3.6.0) (0.7.9)\n",
      "Requirement already satisfied: confection<1.0.0,>=0.0.1 in /home/longr/.conda/envs/jupyter_pymusas/lib/python3.11/site-packages (from thinc<8.2.0,>=8.1.8->spacy<3.7.0,>=3.6.0->en-core-web-sm==3.6.0) (0.1.0)\n",
      "Requirement already satisfied: click<9.0.0,>=7.1.1 in /home/longr/.conda/envs/jupyter_pymusas/lib/python3.11/site-packages (from typer<0.10.0,>=0.3.0->spacy<3.7.0,>=3.6.0->en-core-web-sm==3.6.0) (8.0.4)\n",
      "Requirement already satisfied: MarkupSafe>=2.0 in /home/longr/.conda/envs/jupyter_pymusas/lib/python3.11/site-packages (from jinja2->spacy<3.7.0,>=3.6.0->en-core-web-sm==3.6.0) (2.1.1)\n",
      "\u001b[38;5;2m✔ Download and installation successful\u001b[0m\n",
      "You can now load the package via spacy.load('en_core_web_sm')\n"
     ]
    }
   ],
   "source": [
    "# Install a pip package in the current Jupyter kernel\n",
    "import sys \n",
    "!{sys.executable} -m spacy download en_core_web_sm"
   ]
  },
  {
   "cell_type": "markdown",
   "id": "d0dc66b2-e28c-4375-8944-25249f2584d6",
   "metadata": {},
   "source": [
    "Now that the modules we need are installed we can create the tagger:"
   ]
  },
  {
   "cell_type": "markdown",
   "id": "337dd275-5f63-4664-8d16-a6dd4631bb8f",
   "metadata": {},
   "source": [
    "First we need to import spaCy:"
   ]
  },
  {
   "cell_type": "code",
   "execution_count": 3,
   "id": "91d900bf-10e2-4876-963a-61a423f56741",
   "metadata": {
    "tags": []
   },
   "outputs": [],
   "source": [
    "import spacy"
   ]
  },
  {
   "cell_type": "markdown",
   "id": "f191bdaa-91bc-40a0-925f-9692465312cf",
   "metadata": {},
   "source": [
    "Then we need to exclude some parts of spacy as we do not need then"
   ]
  },
  {
   "cell_type": "code",
   "execution_count": 4,
   "id": "68c82aa9-1ff9-4b64-80d5-2f26791a52fc",
   "metadata": {
    "tags": []
   },
   "outputs": [],
   "source": [
    "nlp = spacy.load('en_core_web_sm', exclude=['parser', 'ner'])"
   ]
  },
  {
   "cell_type": "markdown",
   "id": "2c2aea70-f5a7-41ae-b438-221d029b361f",
   "metadata": {},
   "source": [
    "We then need to load the English PyMUSAS rule based tagger in a separate spaCy pipeline"
   ]
  },
  {
   "cell_type": "code",
   "execution_count": 5,
   "id": "c8b31029-6a62-44ca-b1b9-cd53c868e8fb",
   "metadata": {
    "tags": []
   },
   "outputs": [],
   "source": [
    "english_tagger_pipeline = spacy.load('en_dual_none_contextual')"
   ]
  },
  {
   "cell_type": "markdown",
   "id": "e5e13d1c-0692-44eb-8a8f-f9f08be7390a",
   "metadata": {},
   "source": [
    "Notice here that we load \"en_dual_none_contextual\" which matches the name of the pymusas-model that we downloaded earlier.  "
   ]
  },
  {
   "cell_type": "markdown",
   "id": "d5e3f7ad-355a-402c-b85b-88a383008313",
   "metadata": {},
   "source": [
    "We can now add the English PyMUSAS rule based tagger to the main spaCy pipeline as so:"
   ]
  },
  {
   "cell_type": "code",
   "execution_count": 6,
   "id": "7e5a3548-c090-4599-b2e2-4d1fe6e5e6d3",
   "metadata": {
    "tags": []
   },
   "outputs": [
    {
     "data": {
      "text/plain": [
       "<pymusas.spacy_api.taggers.rule_based.RuleBasedTagger at 0x7fc738245010>"
      ]
     },
     "execution_count": 6,
     "metadata": {},
     "output_type": "execute_result"
    }
   ],
   "source": [
    "nlp.add_pipe('pymusas_rule_based_tagger', source=english_tagger_pipeline)"
   ]
  },
  {
   "cell_type": "markdown",
   "id": "dd4843ef-9227-4784-a67e-4825e211193f",
   "metadata": {},
   "source": [
    "The tagger is now setup for tagging text through the spaCy pipeline like so (this example follows on from the last). The example text is taken from the English Wikipedia page on the topic of The Nile River, we captilised the n in Northeastern.\n",
    "\n",
    "We will first need to create a sting holding our text and assign it to a variable (`text`).   We then pass this to the spaCy tagger and save the output as (`output_doc`):"
   ]
  },
  {
   "cell_type": "code",
   "execution_count": 7,
   "id": "a2d1abf6-2c82-4b61-8a0f-a919919916ae",
   "metadata": {
    "tags": []
   },
   "outputs": [],
   "source": [
    "text = \"The Nile is a major north-flowing river in Northeastern Africa.\"\n",
    "\n",
    "output_doc = nlp(text)"
   ]
  },
  {
   "cell_type": "markdown",
   "id": "c43f519b-448e-4489-bd0e-2b67c0ebece4",
   "metadata": {},
   "source": [
    "We have now tagged all the text, but will need to display it.  Each part of the text is a token stored in `output_doc`.  Each token has attributes such as the lemma or POS.  To get all this information we will loop over `output_doc` and print a small table to screen."
   ]
  },
  {
   "cell_type": "code",
   "execution_count": 8,
   "id": "37d4500b-ac3f-4a66-93b4-7f85bb8b2655",
   "metadata": {
    "tags": []
   },
   "outputs": [
    {
     "name": "stdout",
     "output_type": "stream",
     "text": [
      "Text\tLemma\tPOS\tUSAS Tags\n",
      "The\tthe\tDET\t['Z5']\n",
      "Nile\tNile\tPROPN\t['Z2']\n",
      "is\tbe\tAUX\t['A3+', 'Z5']\n",
      "a\ta\tDET\t['Z5']\n",
      "major\tmajor\tADJ\t['A11.1+', 'N3.2+']\n",
      "north\tnorth\tNOUN\t['M6']\n",
      "-\t-\tPUNCT\t['PUNCT']\n",
      "flowing\tflow\tVERB\t['M4', 'M1']\n",
      "river\triver\tNOUN\t['W3/M4', 'N5+']\n",
      "in\tin\tADP\t['Z5']\n",
      "Northeastern\tNortheastern\tPROPN\t['Z1mf', 'Z3c']\n",
      "Africa\tAfrica\tPROPN\t['Z1mf', 'Z3c']\n",
      ".\t.\tPUNCT\t['PUNCT']\n"
     ]
    }
   ],
   "source": [
    "print(f'Text\\tLemma\\tPOS\\tUSAS Tags')\n",
    "for token in output_doc:\n",
    "    print(f'{token.text}\\t{token.lemma_}\\t{token.pos_}\\t{token._.pymusas_tags}')"
   ]
  },
  {
   "cell_type": "markdown",
   "id": "923104a4-951a-4b5b-b3b3-c969d64f241e",
   "metadata": {},
   "source": [
    "In some languages such as English, the tagger can also identify and tag Mult Word Expressions (MWE).  We can see these, in much the same way as the single words above:"
   ]
  },
  {
   "cell_type": "code",
   "execution_count": 9,
   "id": "097f9cb7-1fea-4887-b2e9-c77a55038f51",
   "metadata": {
    "tags": []
   },
   "outputs": [
    {
     "name": "stdout",
     "output_type": "stream",
     "text": [
      "Text\tPOS\tMWE start and end index\tUSAS Tags\n",
      "Northeastern\tPROPN\t(10, 12)\t['Z1mf', 'Z3c']\n",
      "Africa\tPROPN\t(10, 12)\t['Z1mf', 'Z3c']\n"
     ]
    }
   ],
   "source": [
    "print(f'Text\\tPOS\\tMWE start and end index\\tUSAS Tags')\n",
    "\n",
    "for token in output_doc:\n",
    "    start, end = token._.pymusas_mwe_indexes[0]\n",
    "    if (end - start) > 1:\n",
    "        print(f'{token.text}\\t{token.pos_}\\t{(start, end)}\\t{token._.pymusas_tags}')"
   ]
  },
  {
   "cell_type": "markdown",
   "id": "df6a44cf-8281-4386-84c0-760427517870",
   "metadata": {},
   "source": [
    "## Reading from a file"
   ]
  },
  {
   "cell_type": "markdown",
   "id": "da486473-7cec-4530-acff-6cf052f32ea1",
   "metadata": {},
   "source": [
    "Reading from a file is much the same as for a string of text like we did above.   Assuming that spaCy and the relevant PyMUSAS model are installed like above, we can do:"
   ]
  },
  {
   "cell_type": "code",
   "execution_count": null,
   "id": "593f518e-98f7-43de-acf2-5870b90bae53",
   "metadata": {
    "tags": []
   },
   "outputs": [],
   "source": []
  },
  {
   "cell_type": "markdown",
   "id": "49d141a6-6ae5-47dc-a8c3-383761b69984",
   "metadata": {},
   "source": [
    "You may get an error as we have already loaded PyMUSAS and spaCy but this is fine."
   ]
  },
  {
   "cell_type": "markdown",
   "id": "fc6a9193-b2af-46d2-b0a7-6d960a4ddcf2",
   "metadata": {},
   "source": [
    "## Read in a file\n",
    "\n",
    "As the input gets larger, it will be easier to read it in from a file and output the results in a Pandas DataFrame, which can be used in a similar way to a spreadsheet or table."
   ]
  },
  {
   "cell_type": "markdown",
   "id": "d038a566-5cb0-4f0b-ba77-2c2b83db56b8",
   "metadata": {},
   "source": [
    "As we need Pandas, we will first need to ensure that pandas is installed:"
   ]
  },
  {
   "cell_type": "code",
   "execution_count": 10,
   "id": "a67ddd57-2dab-4c39-b30b-0f853f601569",
   "metadata": {
    "scrolled": true,
    "tags": []
   },
   "outputs": [
    {
     "name": "stdout",
     "output_type": "stream",
     "text": [
      "Requirement already satisfied: pandas in /home/longr/.conda/envs/jupyter_pymusas/lib/python3.11/site-packages (2.0.3)\n",
      "Requirement already satisfied: python-dateutil>=2.8.2 in /home/longr/.conda/envs/jupyter_pymusas/lib/python3.11/site-packages (from pandas) (2.8.2)\n",
      "Requirement already satisfied: pytz>=2020.1 in /home/longr/.conda/envs/jupyter_pymusas/lib/python3.11/site-packages (from pandas) (2022.7)\n",
      "Requirement already satisfied: tzdata>=2022.1 in /home/longr/.conda/envs/jupyter_pymusas/lib/python3.11/site-packages (from pandas) (2023.3)\n",
      "Requirement already satisfied: numpy>=1.21.0 in /home/longr/.conda/envs/jupyter_pymusas/lib/python3.11/site-packages (from pandas) (1.25.1)\n",
      "Requirement already satisfied: six>=1.5 in /home/longr/.conda/envs/jupyter_pymusas/lib/python3.11/site-packages (from python-dateutil>=2.8.2->pandas) (1.16.0)\n"
     ]
    }
   ],
   "source": [
    "# Install a pip package in the current Jupyter kernel\n",
    "import sys \n",
    "!{sys.executable} -m pip install pandas"
   ]
  },
  {
   "cell_type": "markdown",
   "id": "74195bae-35ac-426c-9422-0bfc476f1537",
   "metadata": {},
   "source": [
    "We need to load up and configure SpaCy as before."
   ]
  },
  {
   "cell_type": "code",
   "execution_count": 11,
   "id": "656b7371-e065-49e8-9525-a7c0a9e499dc",
   "metadata": {},
   "outputs": [
    {
     "name": "stderr",
     "output_type": "stream",
     "text": [
      "/home/longr/.conda/envs/jupyter_pymusas/lib/python3.11/site-packages/pymusas/spacy_api/utils.py:38: UserWarning: Overwritten the spaCy Token extension `pymusas_tags` which currently has the following (default, method, getter, setter):`(None, None, None, None)`. And replacing it with the following:`(None, None, None, None)`. This would only become a problem if the the two Tuples of four are different, if they are the same there is no problem.\n",
      "  warnings.warn(message)\n",
      "/home/longr/.conda/envs/jupyter_pymusas/lib/python3.11/site-packages/pymusas/spacy_api/utils.py:38: UserWarning: Overwritten the spaCy Token extension `pymusas_mwe_indexes` which currently has the following (default, method, getter, setter):`(None, None, None, None)`. And replacing it with the following:`(None, None, None, None)`. This would only become a problem if the the two Tuples of four are different, if they are the same there is no problem.\n",
      "  warnings.warn(message)\n"
     ]
    },
    {
     "data": {
      "text/plain": [
       "<pymusas.spacy_api.taggers.rule_based.RuleBasedTagger at 0x7fc769a0e390>"
      ]
     },
     "execution_count": 11,
     "metadata": {},
     "output_type": "execute_result"
    }
   ],
   "source": [
    "import spacy\n",
    "\n",
    "# We exclude the following components as we do not need them. \n",
    "nlp = spacy.load('en_core_web_sm', exclude=['parser', 'ner'])\n",
    "# Load the English PyMUSAS rule based tagger in a separate spaCy pipeline\n",
    "english_tagger_pipeline = spacy.load('en_dual_none_contextual')\n",
    "# Adds the English PyMUSAS rule based tagger to the main spaCy pipeline\n",
    "nlp.add_pipe('pymusas_rule_based_tagger', source=english_tagger_pipeline)"
   ]
  },
  {
   "cell_type": "code",
   "execution_count": 12,
   "id": "db89daf8-5c47-4aca-8a6f-90b9586d7660",
   "metadata": {
    "tags": []
   },
   "outputs": [
    {
     "data": {
      "text/html": [
       "<div>\n",
       "<style scoped>\n",
       "    .dataframe tbody tr th:only-of-type {\n",
       "        vertical-align: middle;\n",
       "    }\n",
       "\n",
       "    .dataframe tbody tr th {\n",
       "        vertical-align: top;\n",
       "    }\n",
       "\n",
       "    .dataframe thead th {\n",
       "        text-align: right;\n",
       "    }\n",
       "</style>\n",
       "<table border=\"1\" class=\"dataframe\">\n",
       "  <thead>\n",
       "    <tr style=\"text-align: right;\">\n",
       "      <th></th>\n",
       "      <th>Text</th>\n",
       "      <th>Lemma</th>\n",
       "      <th>POS</th>\n",
       "      <th>USAS_Tags</th>\n",
       "    </tr>\n",
       "  </thead>\n",
       "  <tbody>\n",
       "    <tr>\n",
       "      <th>0</th>\n",
       "      <td>The</td>\n",
       "      <td>the</td>\n",
       "      <td>DET</td>\n",
       "      <td>[Z5]</td>\n",
       "    </tr>\n",
       "    <tr>\n",
       "      <th>1</th>\n",
       "      <td>Nile</td>\n",
       "      <td>Nile</td>\n",
       "      <td>PROPN</td>\n",
       "      <td>[Z2]</td>\n",
       "    </tr>\n",
       "    <tr>\n",
       "      <th>2</th>\n",
       "      <td>is</td>\n",
       "      <td>be</td>\n",
       "      <td>AUX</td>\n",
       "      <td>[A3+, Z5]</td>\n",
       "    </tr>\n",
       "    <tr>\n",
       "      <th>3</th>\n",
       "      <td>a</td>\n",
       "      <td>a</td>\n",
       "      <td>DET</td>\n",
       "      <td>[Z5]</td>\n",
       "    </tr>\n",
       "    <tr>\n",
       "      <th>4</th>\n",
       "      <td>major</td>\n",
       "      <td>major</td>\n",
       "      <td>ADJ</td>\n",
       "      <td>[A11.1+, N3.2+]</td>\n",
       "    </tr>\n",
       "    <tr>\n",
       "      <th>...</th>\n",
       "      <td>...</td>\n",
       "      <td>...</td>\n",
       "      <td>...</td>\n",
       "      <td>...</td>\n",
       "    </tr>\n",
       "    <tr>\n",
       "      <th>380</th>\n",
       "      <td>the</td>\n",
       "      <td>the</td>\n",
       "      <td>DET</td>\n",
       "      <td>[Z5]</td>\n",
       "    </tr>\n",
       "    <tr>\n",
       "      <th>381</th>\n",
       "      <td>largest</td>\n",
       "      <td>large</td>\n",
       "      <td>ADJ</td>\n",
       "      <td>[N3.2+++, N5+++, A11.1+++]</td>\n",
       "    </tr>\n",
       "    <tr>\n",
       "      <th>382</th>\n",
       "      <td>water</td>\n",
       "      <td>water</td>\n",
       "      <td>NOUN</td>\n",
       "      <td>[O1.2, W3/M4, B1, C1%]</td>\n",
       "    </tr>\n",
       "    <tr>\n",
       "      <th>383</th>\n",
       "      <td>discharge</td>\n",
       "      <td>discharge</td>\n",
       "      <td>NOUN</td>\n",
       "      <td>[A1.7-/M1, B1, O1.2]</td>\n",
       "    </tr>\n",
       "    <tr>\n",
       "      <th>384</th>\n",
       "      <td>.</td>\n",
       "      <td>.</td>\n",
       "      <td>PUNCT</td>\n",
       "      <td>[PUNCT]</td>\n",
       "    </tr>\n",
       "  </tbody>\n",
       "</table>\n",
       "<p>385 rows × 4 columns</p>\n",
       "</div>"
      ],
      "text/plain": [
       "          Text      Lemma    POS                   USAS_Tags\n",
       "0          The        the    DET                        [Z5]\n",
       "1         Nile       Nile  PROPN                        [Z2]\n",
       "2           is         be    AUX                   [A3+, Z5]\n",
       "3            a          a    DET                        [Z5]\n",
       "4        major      major    ADJ             [A11.1+, N3.2+]\n",
       "..         ...        ...    ...                         ...\n",
       "380        the        the    DET                        [Z5]\n",
       "381    largest      large    ADJ  [N3.2+++, N5+++, A11.1+++]\n",
       "382      water      water   NOUN      [O1.2, W3/M4, B1, C1%]\n",
       "383  discharge  discharge   NOUN        [A1.7-/M1, B1, O1.2]\n",
       "384          .          .  PUNCT                     [PUNCT]\n",
       "\n",
       "[385 rows x 4 columns]"
      ]
     },
     "execution_count": 12,
     "metadata": {},
     "output_type": "execute_result"
    }
   ],
   "source": [
    "# load in pandas so we can create dataframs\n",
    "import pandas as pd\n",
    "\n",
    "# We need to create lists for each of the columns\n",
    "text = []\n",
    "lemma = []\n",
    "pos = []\n",
    "pymusas_tags = []\n",
    "\n",
    "# Now we need to open the file\n",
    "with open('Nile.txt') as f:\n",
    "    contents = f.read()\n",
    "    \n",
    "    # We need to pass the contents of the file to the tagger\n",
    "    output_doc = nlp(contents)\n",
    "    \n",
    "    # We need to loop over the output of the tagger and\n",
    "    # and add each element to the lists\n",
    "    for token in output_doc:\n",
    "        text.append(token.text)\n",
    "        lemma.append(token.lemma_)\n",
    "        pos.append(token.pos_)\n",
    "        pymusas_tags.append(token._.pymusas_tags)\n",
    "\n",
    "\n",
    "# We need to create the dataframe with the columns we will require.\n",
    "# and assign each list to a column\n",
    "df = pd.DataFrame({'Text': text,\n",
    "                   'Lemma': lemma,\n",
    "                   'POS': pos,\n",
    "                   'USAS_Tags': pymusas_tags\n",
    "                  })\n",
    "\n",
    "# Print out the dataframe so we can see it.\n",
    "# We should use 'print(df)' but 'df' displays \n",
    "# better in Jupyter:\n",
    "\n",
    "df"
   ]
  },
  {
   "cell_type": "markdown",
   "id": "8e420ef7-6815-4835-b056-9fafcf190974",
   "metadata": {},
   "source": [
    "## Tagging text inline"
   ]
  },
  {
   "cell_type": "markdown",
   "id": "dc9becdc-a8cf-4030-a384-c42313f86862",
   "metadata": {},
   "source": [
    "One option we have the option to place tags along side the text."
   ]
  },
  {
   "cell_type": "code",
   "execution_count": 13,
   "id": "72c54663-c89f-4f6d-aa4d-2668f9c49ce3",
   "metadata": {
    "tags": []
   },
   "outputs": [
    {
     "data": {
      "text/html": [
       "<div class=\"entities\" style=\"line-height: 2.0; direction: ltr\"> The<bgr class=\"entity\" style=\"background:rgb(127,170,190) ; padding: 0.1em 0.1em; margin: 0 0.15em; border-radius: 0.23em;\">Nile<span style=\"font-size: 0.8em; font-weight: bold; border-radius: 0.35em; vertical-align: middle; margin-left: 0.5rem\">PROPN\n",
       "</span>\n",
       "</bgr> is a major<bgr class=\"entity\" style=\"background:rgb(134,153,120) ; padding: 0.1em 0.1em; margin: 0 0.15em; border-radius: 0.23em;\">north<span style=\"font-size: 0.8em; font-weight: bold; border-radius: 0.35em; vertical-align: middle; margin-left: 0.5rem\">NOUN\n",
       "</span>\n",
       "</bgr>- flowing<bgr class=\"entity\" style=\"background:rgb(134,153,120) ; padding: 0.1em 0.1em; margin: 0 0.15em; border-radius: 0.23em;\">river<span style=\"font-size: 0.8em; font-weight: bold; border-radius: 0.35em; vertical-align: middle; margin-left: 0.5rem\">NOUN\n",
       "</span>\n",
       "</bgr> in northeastern<bgr class=\"entity\" style=\"background:rgb(127,170,190) ; padding: 0.1em 0.1em; margin: 0 0.15em; border-radius: 0.23em;\">Africa<span style=\"font-size: 0.8em; font-weight: bold; border-radius: 0.35em; vertical-align: middle; margin-left: 0.5rem\">PROPN\n",
       "</span>\n",
       "</bgr>. It flows into the<bgr class=\"entity\" style=\"background:rgb(127,170,190) ; padding: 0.1em 0.1em; margin: 0 0.15em; border-radius: 0.23em;\">Mediterranean<span style=\"font-size: 0.8em; font-weight: bold; border-radius: 0.35em; vertical-align: middle; margin-left: 0.5rem\">PROPN\n",
       "</span>\n",
       "</bgr><bgr class=\"entity\" style=\"background:rgb(127,170,190) ; padding: 0.1em 0.1em; margin: 0 0.15em; border-radius: 0.23em;\">Sea<span style=\"font-size: 0.8em; font-weight: bold; border-radius: 0.35em; vertical-align: middle; margin-left: 0.5rem\">PROPN\n",
       "</span>\n",
       "</bgr>. The<bgr class=\"entity\" style=\"background:rgb(127,170,190) ; padding: 0.1em 0.1em; margin: 0 0.15em; border-radius: 0.23em;\">Nile<span style=\"font-size: 0.8em; font-weight: bold; border-radius: 0.35em; vertical-align: middle; margin-left: 0.5rem\">PROPN\n",
       "</span>\n",
       "</bgr> is the longest<bgr class=\"entity\" style=\"background:rgb(134,153,120) ; padding: 0.1em 0.1em; margin: 0 0.15em; border-radius: 0.23em;\">river<span style=\"font-size: 0.8em; font-weight: bold; border-radius: 0.35em; vertical-align: middle; margin-left: 0.5rem\">NOUN\n",
       "</span>\n",
       "</bgr> in<bgr class=\"entity\" style=\"background:rgb(127,170,190) ; padding: 0.1em 0.1em; margin: 0 0.15em; border-radius: 0.23em;\">Africa<span style=\"font-size: 0.8em; font-weight: bold; border-radius: 0.35em; vertical-align: middle; margin-left: 0.5rem\">PROPN\n",
       "</span>\n",
       "</bgr> and has historically been considered the longest<bgr class=\"entity\" style=\"background:rgb(134,153,120) ; padding: 0.1em 0.1em; margin: 0 0.15em; border-radius: 0.23em;\">river<span style=\"font-size: 0.8em; font-weight: bold; border-radius: 0.35em; vertical-align: middle; margin-left: 0.5rem\">NOUN\n",
       "</span>\n",
       "</bgr> in the<bgr class=\"entity\" style=\"background:rgb(134,153,120) ; padding: 0.1em 0.1em; margin: 0 0.15em; border-radius: 0.23em;\">world<span style=\"font-size: 0.8em; font-weight: bold; border-radius: 0.35em; vertical-align: middle; margin-left: 0.5rem\">NOUN\n",
       "</span>\n",
       "</bgr>, though this has been contested by<bgr class=\"entity\" style=\"background:rgb(134,153,120) ; padding: 0.1em 0.1em; margin: 0 0.15em; border-radius: 0.23em;\">research<span style=\"font-size: 0.8em; font-weight: bold; border-radius: 0.35em; vertical-align: middle; margin-left: 0.5rem\">NOUN\n",
       "</span>\n",
       "</bgr> suggesting that the<bgr class=\"entity\" style=\"background:rgb(127,170,190) ; padding: 0.1em 0.1em; margin: 0 0.15em; border-radius: 0.23em;\">Amazon<span style=\"font-size: 0.8em; font-weight: bold; border-radius: 0.35em; vertical-align: middle; margin-left: 0.5rem\">PROPN\n",
       "</span>\n",
       "</bgr><bgr class=\"entity\" style=\"background:rgb(127,170,190) ; padding: 0.1em 0.1em; margin: 0 0.15em; border-radius: 0.23em;\">River<span style=\"font-size: 0.8em; font-weight: bold; border-radius: 0.35em; vertical-align: middle; margin-left: 0.5rem\">PROPN\n",
       "</span>\n",
       "</bgr> is slightly longer. Of the<bgr class=\"entity\" style=\"background:rgb(134,153,120) ; padding: 0.1em 0.1em; margin: 0 0.15em; border-radius: 0.23em;\">world<span style=\"font-size: 0.8em; font-weight: bold; border-radius: 0.35em; vertical-align: middle; margin-left: 0.5rem\">NOUN\n",
       "</span>\n",
       "</bgr> 's major<bgr class=\"entity\" style=\"background:rgb(134,153,120) ; padding: 0.1em 0.1em; margin: 0 0.15em; border-radius: 0.23em;\">rivers<span style=\"font-size: 0.8em; font-weight: bold; border-radius: 0.35em; vertical-align: middle; margin-left: 0.5rem\">NOUN\n",
       "</span>\n",
       "</bgr>, the<bgr class=\"entity\" style=\"background:rgb(127,170,190) ; padding: 0.1em 0.1em; margin: 0 0.15em; border-radius: 0.23em;\">Nile<span style=\"font-size: 0.8em; font-weight: bold; border-radius: 0.35em; vertical-align: middle; margin-left: 0.5rem\">PROPN\n",
       "</span>\n",
       "</bgr> is one of the smallest, as measured by annual<bgr class=\"entity\" style=\"background:rgb(134,153,120) ; padding: 0.1em 0.1em; margin: 0 0.15em; border-radius: 0.23em;\">flow<span style=\"font-size: 0.8em; font-weight: bold; border-radius: 0.35em; vertical-align: middle; margin-left: 0.5rem\">NOUN\n",
       "</span>\n",
       "</bgr> in cubic<bgr class=\"entity\" style=\"background:rgb(134,153,120) ; padding: 0.1em 0.1em; margin: 0 0.15em; border-radius: 0.23em;\">metres<span style=\"font-size: 0.8em; font-weight: bold; border-radius: 0.35em; vertical-align: middle; margin-left: 0.5rem\">NOUN\n",
       "</span>\n",
       "</bgr> of<bgr class=\"entity\" style=\"background:rgb(134,153,120) ; padding: 0.1em 0.1em; margin: 0 0.15em; border-radius: 0.23em;\">water<span style=\"font-size: 0.8em; font-weight: bold; border-radius: 0.35em; vertical-align: middle; margin-left: 0.5rem\">NOUN\n",
       "</span>\n",
       "</bgr>. About 6,650<bgr class=\"entity\" style=\"background:rgb(134,153,120) ; padding: 0.1em 0.1em; margin: 0 0.15em; border-radius: 0.23em;\">km<span style=\"font-size: 0.8em; font-weight: bold; border-radius: 0.35em; vertical-align: middle; margin-left: 0.5rem\">NOUN\n",
       "</span>\n",
       "</bgr>( 4,130<bgr class=\"entity\" style=\"background:rgb(127,170,190) ; padding: 0.1em 0.1em; margin: 0 0.15em; border-radius: 0.23em;\">mi<span style=\"font-size: 0.8em; font-weight: bold; border-radius: 0.35em; vertical-align: middle; margin-left: 0.5rem\">PROPN\n",
       "</span>\n",
       "</bgr>) long, its<bgr class=\"entity\" style=\"background:rgb(134,153,120) ; padding: 0.1em 0.1em; margin: 0 0.15em; border-radius: 0.23em;\">drainage<span style=\"font-size: 0.8em; font-weight: bold; border-radius: 0.35em; vertical-align: middle; margin-left: 0.5rem\">NOUN\n",
       "</span>\n",
       "</bgr><bgr class=\"entity\" style=\"background:rgb(134,153,120) ; padding: 0.1em 0.1em; margin: 0 0.15em; border-radius: 0.23em;\">basin<span style=\"font-size: 0.8em; font-weight: bold; border-radius: 0.35em; vertical-align: middle; margin-left: 0.5rem\">NOUN\n",
       "</span>\n",
       "</bgr> covers eleven<bgr class=\"entity\" style=\"background:rgb(134,153,120) ; padding: 0.1em 0.1em; margin: 0 0.15em; border-radius: 0.23em;\">countries<span style=\"font-size: 0.8em; font-weight: bold; border-radius: 0.35em; vertical-align: middle; margin-left: 0.5rem\">NOUN\n",
       "</span>\n",
       "</bgr>: the<bgr class=\"entity\" style=\"background:rgb(127,170,190) ; padding: 0.1em 0.1em; margin: 0 0.15em; border-radius: 0.23em;\">Democratic<span style=\"font-size: 0.8em; font-weight: bold; border-radius: 0.35em; vertical-align: middle; margin-left: 0.5rem\">PROPN\n",
       "</span>\n",
       "</bgr><bgr class=\"entity\" style=\"background:rgb(127,170,190) ; padding: 0.1em 0.1em; margin: 0 0.15em; border-radius: 0.23em;\">Republic<span style=\"font-size: 0.8em; font-weight: bold; border-radius: 0.35em; vertical-align: middle; margin-left: 0.5rem\">PROPN\n",
       "</span>\n",
       "</bgr> of the<bgr class=\"entity\" style=\"background:rgb(127,170,190) ; padding: 0.1em 0.1em; margin: 0 0.15em; border-radius: 0.23em;\">Congo<span style=\"font-size: 0.8em; font-weight: bold; border-radius: 0.35em; vertical-align: middle; margin-left: 0.5rem\">PROPN\n",
       "</span>\n",
       "</bgr>,<bgr class=\"entity\" style=\"background:rgb(127,170,190) ; padding: 0.1em 0.1em; margin: 0 0.15em; border-radius: 0.23em;\">Tanzania<span style=\"font-size: 0.8em; font-weight: bold; border-radius: 0.35em; vertical-align: middle; margin-left: 0.5rem\">PROPN\n",
       "</span>\n",
       "</bgr>,<bgr class=\"entity\" style=\"background:rgb(127,170,190) ; padding: 0.1em 0.1em; margin: 0 0.15em; border-radius: 0.23em;\">Burundi<span style=\"font-size: 0.8em; font-weight: bold; border-radius: 0.35em; vertical-align: middle; margin-left: 0.5rem\">PROPN\n",
       "</span>\n",
       "</bgr>,<bgr class=\"entity\" style=\"background:rgb(127,170,190) ; padding: 0.1em 0.1em; margin: 0 0.15em; border-radius: 0.23em;\">Rwanda<span style=\"font-size: 0.8em; font-weight: bold; border-radius: 0.35em; vertical-align: middle; margin-left: 0.5rem\">PROPN\n",
       "</span>\n",
       "</bgr>,<bgr class=\"entity\" style=\"background:rgb(127,170,190) ; padding: 0.1em 0.1em; margin: 0 0.15em; border-radius: 0.23em;\">Uganda<span style=\"font-size: 0.8em; font-weight: bold; border-radius: 0.35em; vertical-align: middle; margin-left: 0.5rem\">PROPN\n",
       "</span>\n",
       "</bgr>,<bgr class=\"entity\" style=\"background:rgb(127,170,190) ; padding: 0.1em 0.1em; margin: 0 0.15em; border-radius: 0.23em;\">Kenya<span style=\"font-size: 0.8em; font-weight: bold; border-radius: 0.35em; vertical-align: middle; margin-left: 0.5rem\">PROPN\n",
       "</span>\n",
       "</bgr>,<bgr class=\"entity\" style=\"background:rgb(127,170,190) ; padding: 0.1em 0.1em; margin: 0 0.15em; border-radius: 0.23em;\">Ethiopia<span style=\"font-size: 0.8em; font-weight: bold; border-radius: 0.35em; vertical-align: middle; margin-left: 0.5rem\">PROPN\n",
       "</span>\n",
       "</bgr>,<bgr class=\"entity\" style=\"background:rgb(127,170,190) ; padding: 0.1em 0.1em; margin: 0 0.15em; border-radius: 0.23em;\">Eritrea<span style=\"font-size: 0.8em; font-weight: bold; border-radius: 0.35em; vertical-align: middle; margin-left: 0.5rem\">PROPN\n",
       "</span>\n",
       "</bgr>,<bgr class=\"entity\" style=\"background:rgb(127,170,190) ; padding: 0.1em 0.1em; margin: 0 0.15em; border-radius: 0.23em;\">South<span style=\"font-size: 0.8em; font-weight: bold; border-radius: 0.35em; vertical-align: middle; margin-left: 0.5rem\">PROPN\n",
       "</span>\n",
       "</bgr><bgr class=\"entity\" style=\"background:rgb(127,170,190) ; padding: 0.1em 0.1em; margin: 0 0.15em; border-radius: 0.23em;\">Sudan<span style=\"font-size: 0.8em; font-weight: bold; border-radius: 0.35em; vertical-align: middle; margin-left: 0.5rem\">PROPN\n",
       "</span>\n",
       "</bgr>,<bgr class=\"entity\" style=\"background:rgb(127,170,190) ; padding: 0.1em 0.1em; margin: 0 0.15em; border-radius: 0.23em;\">Republic<span style=\"font-size: 0.8em; font-weight: bold; border-radius: 0.35em; vertical-align: middle; margin-left: 0.5rem\">PROPN\n",
       "</span>\n",
       "</bgr> of the<bgr class=\"entity\" style=\"background:rgb(127,170,190) ; padding: 0.1em 0.1em; margin: 0 0.15em; border-radius: 0.23em;\">Sudan<span style=\"font-size: 0.8em; font-weight: bold; border-radius: 0.35em; vertical-align: middle; margin-left: 0.5rem\">PROPN\n",
       "</span>\n",
       "</bgr>, and<bgr class=\"entity\" style=\"background:rgb(127,170,190) ; padding: 0.1em 0.1em; margin: 0 0.15em; border-radius: 0.23em;\">Egypt<span style=\"font-size: 0.8em; font-weight: bold; border-radius: 0.35em; vertical-align: middle; margin-left: 0.5rem\">PROPN\n",
       "</span>\n",
       "</bgr>. In particular, the<bgr class=\"entity\" style=\"background:rgb(127,170,190) ; padding: 0.1em 0.1em; margin: 0 0.15em; border-radius: 0.23em;\">Nile<span style=\"font-size: 0.8em; font-weight: bold; border-radius: 0.35em; vertical-align: middle; margin-left: 0.5rem\">PROPN\n",
       "</span>\n",
       "</bgr> is the primary<bgr class=\"entity\" style=\"background:rgb(134,153,120) ; padding: 0.1em 0.1em; margin: 0 0.15em; border-radius: 0.23em;\">water<span style=\"font-size: 0.8em; font-weight: bold; border-radius: 0.35em; vertical-align: middle; margin-left: 0.5rem\">NOUN\n",
       "</span>\n",
       "</bgr><bgr class=\"entity\" style=\"background:rgb(134,153,120) ; padding: 0.1em 0.1em; margin: 0 0.15em; border-radius: 0.23em;\">source<span style=\"font-size: 0.8em; font-weight: bold; border-radius: 0.35em; vertical-align: middle; margin-left: 0.5rem\">NOUN\n",
       "</span>\n",
       "</bgr> of<bgr class=\"entity\" style=\"background:rgb(127,170,190) ; padding: 0.1em 0.1em; margin: 0 0.15em; border-radius: 0.23em;\">Egypt<span style=\"font-size: 0.8em; font-weight: bold; border-radius: 0.35em; vertical-align: middle; margin-left: 0.5rem\">PROPN\n",
       "</span>\n",
       "</bgr>,<bgr class=\"entity\" style=\"background:rgb(127,170,190) ; padding: 0.1em 0.1em; margin: 0 0.15em; border-radius: 0.23em;\">Sudan<span style=\"font-size: 0.8em; font-weight: bold; border-radius: 0.35em; vertical-align: middle; margin-left: 0.5rem\">PROPN\n",
       "</span>\n",
       "</bgr> and<bgr class=\"entity\" style=\"background:rgb(127,170,190) ; padding: 0.1em 0.1em; margin: 0 0.15em; border-radius: 0.23em;\">South<span style=\"font-size: 0.8em; font-weight: bold; border-radius: 0.35em; vertical-align: middle; margin-left: 0.5rem\">PROPN\n",
       "</span>\n",
       "</bgr><bgr class=\"entity\" style=\"background:rgb(127,170,190) ; padding: 0.1em 0.1em; margin: 0 0.15em; border-radius: 0.23em;\">Sudan<span style=\"font-size: 0.8em; font-weight: bold; border-radius: 0.35em; vertical-align: middle; margin-left: 0.5rem\">PROPN\n",
       "</span>\n",
       "</bgr>. Additionally, the<bgr class=\"entity\" style=\"background:rgb(127,170,190) ; padding: 0.1em 0.1em; margin: 0 0.15em; border-radius: 0.23em;\">Nile<span style=\"font-size: 0.8em; font-weight: bold; border-radius: 0.35em; vertical-align: middle; margin-left: 0.5rem\">PROPN\n",
       "</span>\n",
       "</bgr> is an important economic<bgr class=\"entity\" style=\"background:rgb(134,153,120) ; padding: 0.1em 0.1em; margin: 0 0.15em; border-radius: 0.23em;\">river<span style=\"font-size: 0.8em; font-weight: bold; border-radius: 0.35em; vertical-align: middle; margin-left: 0.5rem\">NOUN\n",
       "</span>\n",
       "</bgr>, supporting<bgr class=\"entity\" style=\"background:rgb(134,153,120) ; padding: 0.1em 0.1em; margin: 0 0.15em; border-radius: 0.23em;\">agriculture<span style=\"font-size: 0.8em; font-weight: bold; border-radius: 0.35em; vertical-align: middle; margin-left: 0.5rem\">NOUN\n",
       "</span>\n",
       "</bgr> and<bgr class=\"entity\" style=\"background:rgb(134,153,120) ; padding: 0.1em 0.1em; margin: 0 0.15em; border-radius: 0.23em;\">fishing<span style=\"font-size: 0.8em; font-weight: bold; border-radius: 0.35em; vertical-align: middle; margin-left: 0.5rem\">NOUN\n",
       "</span>\n",
       "</bgr>. \n",
       "\n",
       " The<bgr class=\"entity\" style=\"background:rgb(127,170,190) ; padding: 0.1em 0.1em; margin: 0 0.15em; border-radius: 0.23em;\">Nile<span style=\"font-size: 0.8em; font-weight: bold; border-radius: 0.35em; vertical-align: middle; margin-left: 0.5rem\">PROPN\n",
       "</span>\n",
       "</bgr> has two major<bgr class=\"entity\" style=\"background:rgb(134,153,120) ; padding: 0.1em 0.1em; margin: 0 0.15em; border-radius: 0.23em;\">tributaries<span style=\"font-size: 0.8em; font-weight: bold; border-radius: 0.35em; vertical-align: middle; margin-left: 0.5rem\">NOUN\n",
       "</span>\n",
       "</bgr>– the<bgr class=\"entity\" style=\"background:rgb(127,170,190) ; padding: 0.1em 0.1em; margin: 0 0.15em; border-radius: 0.23em;\">White<span style=\"font-size: 0.8em; font-weight: bold; border-radius: 0.35em; vertical-align: middle; margin-left: 0.5rem\">PROPN\n",
       "</span>\n",
       "</bgr><bgr class=\"entity\" style=\"background:rgb(127,170,190) ; padding: 0.1em 0.1em; margin: 0 0.15em; border-radius: 0.23em;\">Nile<span style=\"font-size: 0.8em; font-weight: bold; border-radius: 0.35em; vertical-align: middle; margin-left: 0.5rem\">PROPN\n",
       "</span>\n",
       "</bgr> and the<bgr class=\"entity\" style=\"background:rgb(127,170,190) ; padding: 0.1em 0.1em; margin: 0 0.15em; border-radius: 0.23em;\">Blue<span style=\"font-size: 0.8em; font-weight: bold; border-radius: 0.35em; vertical-align: middle; margin-left: 0.5rem\">PROPN\n",
       "</span>\n",
       "</bgr><bgr class=\"entity\" style=\"background:rgb(127,170,190) ; padding: 0.1em 0.1em; margin: 0 0.15em; border-radius: 0.23em;\">Nile<span style=\"font-size: 0.8em; font-weight: bold; border-radius: 0.35em; vertical-align: middle; margin-left: 0.5rem\">PROPN\n",
       "</span>\n",
       "</bgr>. The<bgr class=\"entity\" style=\"background:rgb(127,170,190) ; padding: 0.1em 0.1em; margin: 0 0.15em; border-radius: 0.23em;\">White<span style=\"font-size: 0.8em; font-weight: bold; border-radius: 0.35em; vertical-align: middle; margin-left: 0.5rem\">PROPN\n",
       "</span>\n",
       "</bgr><bgr class=\"entity\" style=\"background:rgb(127,170,190) ; padding: 0.1em 0.1em; margin: 0 0.15em; border-radius: 0.23em;\">Nile<span style=\"font-size: 0.8em; font-weight: bold; border-radius: 0.35em; vertical-align: middle; margin-left: 0.5rem\">PROPN\n",
       "</span>\n",
       "</bgr> is traditionally considered to be the<bgr class=\"entity\" style=\"background:rgb(134,153,120) ; padding: 0.1em 0.1em; margin: 0 0.15em; border-radius: 0.23em;\">headwaters<span style=\"font-size: 0.8em; font-weight: bold; border-radius: 0.35em; vertical-align: middle; margin-left: 0.5rem\">NOUN\n",
       "</span>\n",
       "</bgr> stream. However, the<bgr class=\"entity\" style=\"background:rgb(127,170,190) ; padding: 0.1em 0.1em; margin: 0 0.15em; border-radius: 0.23em;\">Blue<span style=\"font-size: 0.8em; font-weight: bold; border-radius: 0.35em; vertical-align: middle; margin-left: 0.5rem\">PROPN\n",
       "</span>\n",
       "</bgr><bgr class=\"entity\" style=\"background:rgb(127,170,190) ; padding: 0.1em 0.1em; margin: 0 0.15em; border-radius: 0.23em;\">Nile<span style=\"font-size: 0.8em; font-weight: bold; border-radius: 0.35em; vertical-align: middle; margin-left: 0.5rem\">PROPN\n",
       "</span>\n",
       "</bgr> is the<bgr class=\"entity\" style=\"background:rgb(134,153,120) ; padding: 0.1em 0.1em; margin: 0 0.15em; border-radius: 0.23em;\">source<span style=\"font-size: 0.8em; font-weight: bold; border-radius: 0.35em; vertical-align: middle; margin-left: 0.5rem\">NOUN\n",
       "</span>\n",
       "</bgr> of most of the<bgr class=\"entity\" style=\"background:rgb(134,153,120) ; padding: 0.1em 0.1em; margin: 0 0.15em; border-radius: 0.23em;\">water<span style=\"font-size: 0.8em; font-weight: bold; border-radius: 0.35em; vertical-align: middle; margin-left: 0.5rem\">NOUN\n",
       "</span>\n",
       "</bgr> of the<bgr class=\"entity\" style=\"background:rgb(127,170,190) ; padding: 0.1em 0.1em; margin: 0 0.15em; border-radius: 0.23em;\">Nile<span style=\"font-size: 0.8em; font-weight: bold; border-radius: 0.35em; vertical-align: middle; margin-left: 0.5rem\">PROPN\n",
       "</span>\n",
       "</bgr><bgr class=\"entity\" style=\"background:rgb(134,153,120) ; padding: 0.1em 0.1em; margin: 0 0.15em; border-radius: 0.23em;\">downstream<span style=\"font-size: 0.8em; font-weight: bold; border-radius: 0.35em; vertical-align: middle; margin-left: 0.5rem\">NOUN\n",
       "</span>\n",
       "</bgr>, containing 80<bgr class=\"entity\" style=\"background:rgb(134,153,120) ; padding: 0.1em 0.1em; margin: 0 0.15em; border-radius: 0.23em;\">%<span style=\"font-size: 0.8em; font-weight: bold; border-radius: 0.35em; vertical-align: middle; margin-left: 0.5rem\">NOUN\n",
       "</span>\n",
       "</bgr> of the<bgr class=\"entity\" style=\"background:rgb(134,153,120) ; padding: 0.1em 0.1em; margin: 0 0.15em; border-radius: 0.23em;\">water<span style=\"font-size: 0.8em; font-weight: bold; border-radius: 0.35em; vertical-align: middle; margin-left: 0.5rem\">NOUN\n",
       "</span>\n",
       "</bgr> and<bgr class=\"entity\" style=\"background:rgb(134,153,120) ; padding: 0.1em 0.1em; margin: 0 0.15em; border-radius: 0.23em;\">silt<span style=\"font-size: 0.8em; font-weight: bold; border-radius: 0.35em; vertical-align: middle; margin-left: 0.5rem\">NOUN\n",
       "</span>\n",
       "</bgr>. The<bgr class=\"entity\" style=\"background:rgb(127,170,190) ; padding: 0.1em 0.1em; margin: 0 0.15em; border-radius: 0.23em;\">White<span style=\"font-size: 0.8em; font-weight: bold; border-radius: 0.35em; vertical-align: middle; margin-left: 0.5rem\">PROPN\n",
       "</span>\n",
       "</bgr><bgr class=\"entity\" style=\"background:rgb(127,170,190) ; padding: 0.1em 0.1em; margin: 0 0.15em; border-radius: 0.23em;\">Nile<span style=\"font-size: 0.8em; font-weight: bold; border-radius: 0.35em; vertical-align: middle; margin-left: 0.5rem\">PROPN\n",
       "</span>\n",
       "</bgr> is longer and rises in the<bgr class=\"entity\" style=\"background:rgb(127,170,190) ; padding: 0.1em 0.1em; margin: 0 0.15em; border-radius: 0.23em;\">Great<span style=\"font-size: 0.8em; font-weight: bold; border-radius: 0.35em; vertical-align: middle; margin-left: 0.5rem\">PROPN\n",
       "</span>\n",
       "</bgr><bgr class=\"entity\" style=\"background:rgb(127,170,190) ; padding: 0.1em 0.1em; margin: 0 0.15em; border-radius: 0.23em;\">Lakes<span style=\"font-size: 0.8em; font-weight: bold; border-radius: 0.35em; vertical-align: middle; margin-left: 0.5rem\">PROPN\n",
       "</span>\n",
       "</bgr><bgr class=\"entity\" style=\"background:rgb(134,153,120) ; padding: 0.1em 0.1em; margin: 0 0.15em; border-radius: 0.23em;\">region<span style=\"font-size: 0.8em; font-weight: bold; border-radius: 0.35em; vertical-align: middle; margin-left: 0.5rem\">NOUN\n",
       "</span>\n",
       "</bgr>. It begins at<bgr class=\"entity\" style=\"background:rgb(127,170,190) ; padding: 0.1em 0.1em; margin: 0 0.15em; border-radius: 0.23em;\">Lake<span style=\"font-size: 0.8em; font-weight: bold; border-radius: 0.35em; vertical-align: middle; margin-left: 0.5rem\">PROPN\n",
       "</span>\n",
       "</bgr><bgr class=\"entity\" style=\"background:rgb(127,170,190) ; padding: 0.1em 0.1em; margin: 0 0.15em; border-radius: 0.23em;\">Victoria<span style=\"font-size: 0.8em; font-weight: bold; border-radius: 0.35em; vertical-align: middle; margin-left: 0.5rem\">PROPN\n",
       "</span>\n",
       "</bgr> and flows through<bgr class=\"entity\" style=\"background:rgb(127,170,190) ; padding: 0.1em 0.1em; margin: 0 0.15em; border-radius: 0.23em;\">Uganda<span style=\"font-size: 0.8em; font-weight: bold; border-radius: 0.35em; vertical-align: middle; margin-left: 0.5rem\">PROPN\n",
       "</span>\n",
       "</bgr> and<bgr class=\"entity\" style=\"background:rgb(127,170,190) ; padding: 0.1em 0.1em; margin: 0 0.15em; border-radius: 0.23em;\">South<span style=\"font-size: 0.8em; font-weight: bold; border-radius: 0.35em; vertical-align: middle; margin-left: 0.5rem\">PROPN\n",
       "</span>\n",
       "</bgr><bgr class=\"entity\" style=\"background:rgb(127,170,190) ; padding: 0.1em 0.1em; margin: 0 0.15em; border-radius: 0.23em;\">Sudan<span style=\"font-size: 0.8em; font-weight: bold; border-radius: 0.35em; vertical-align: middle; margin-left: 0.5rem\">PROPN\n",
       "</span>\n",
       "</bgr>. The<bgr class=\"entity\" style=\"background:rgb(127,170,190) ; padding: 0.1em 0.1em; margin: 0 0.15em; border-radius: 0.23em;\">Blue<span style=\"font-size: 0.8em; font-weight: bold; border-radius: 0.35em; vertical-align: middle; margin-left: 0.5rem\">PROPN\n",
       "</span>\n",
       "</bgr><bgr class=\"entity\" style=\"background:rgb(127,170,190) ; padding: 0.1em 0.1em; margin: 0 0.15em; border-radius: 0.23em;\">Nile<span style=\"font-size: 0.8em; font-weight: bold; border-radius: 0.35em; vertical-align: middle; margin-left: 0.5rem\">PROPN\n",
       "</span>\n",
       "</bgr> begins at<bgr class=\"entity\" style=\"background:rgb(127,170,190) ; padding: 0.1em 0.1em; margin: 0 0.15em; border-radius: 0.23em;\">Lake<span style=\"font-size: 0.8em; font-weight: bold; border-radius: 0.35em; vertical-align: middle; margin-left: 0.5rem\">PROPN\n",
       "</span>\n",
       "</bgr><bgr class=\"entity\" style=\"background:rgb(127,170,190) ; padding: 0.1em 0.1em; margin: 0 0.15em; border-radius: 0.23em;\">Tana<span style=\"font-size: 0.8em; font-weight: bold; border-radius: 0.35em; vertical-align: middle; margin-left: 0.5rem\">PROPN\n",
       "</span>\n",
       "</bgr> in<bgr class=\"entity\" style=\"background:rgb(127,170,190) ; padding: 0.1em 0.1em; margin: 0 0.15em; border-radius: 0.23em;\">Ethiopia<span style=\"font-size: 0.8em; font-weight: bold; border-radius: 0.35em; vertical-align: middle; margin-left: 0.5rem\">PROPN\n",
       "</span>\n",
       "</bgr> and flows into<bgr class=\"entity\" style=\"background:rgb(127,170,190) ; padding: 0.1em 0.1em; margin: 0 0.15em; border-radius: 0.23em;\">Sudan<span style=\"font-size: 0.8em; font-weight: bold; border-radius: 0.35em; vertical-align: middle; margin-left: 0.5rem\">PROPN\n",
       "</span>\n",
       "</bgr> from the<bgr class=\"entity\" style=\"background:rgb(134,153,120) ; padding: 0.1em 0.1em; margin: 0 0.15em; border-radius: 0.23em;\">southeast<span style=\"font-size: 0.8em; font-weight: bold; border-radius: 0.35em; vertical-align: middle; margin-left: 0.5rem\">NOUN\n",
       "</span>\n",
       "</bgr>. The two<bgr class=\"entity\" style=\"background:rgb(134,153,120) ; padding: 0.1em 0.1em; margin: 0 0.15em; border-radius: 0.23em;\">rivers<span style=\"font-size: 0.8em; font-weight: bold; border-radius: 0.35em; vertical-align: middle; margin-left: 0.5rem\">NOUN\n",
       "</span>\n",
       "</bgr> meet at the Sudanese<bgr class=\"entity\" style=\"background:rgb(134,153,120) ; padding: 0.1em 0.1em; margin: 0 0.15em; border-radius: 0.23em;\">capital<span style=\"font-size: 0.8em; font-weight: bold; border-radius: 0.35em; vertical-align: middle; margin-left: 0.5rem\">NOUN\n",
       "</span>\n",
       "</bgr> of<bgr class=\"entity\" style=\"background:rgb(127,170,190) ; padding: 0.1em 0.1em; margin: 0 0.15em; border-radius: 0.23em;\">Khartoum<span style=\"font-size: 0.8em; font-weight: bold; border-radius: 0.35em; vertical-align: middle; margin-left: 0.5rem\">PROPN\n",
       "</span>\n",
       "</bgr>. \n",
       "\n",
       " The northern<bgr class=\"entity\" style=\"background:rgb(134,153,120) ; padding: 0.1em 0.1em; margin: 0 0.15em; border-radius: 0.23em;\">section<span style=\"font-size: 0.8em; font-weight: bold; border-radius: 0.35em; vertical-align: middle; margin-left: 0.5rem\">NOUN\n",
       "</span>\n",
       "</bgr> of the<bgr class=\"entity\" style=\"background:rgb(134,153,120) ; padding: 0.1em 0.1em; margin: 0 0.15em; border-radius: 0.23em;\">river<span style=\"font-size: 0.8em; font-weight: bold; border-radius: 0.35em; vertical-align: middle; margin-left: 0.5rem\">NOUN\n",
       "</span>\n",
       "</bgr> flows north almost entirely through the<bgr class=\"entity\" style=\"background:rgb(127,170,190) ; padding: 0.1em 0.1em; margin: 0 0.15em; border-radius: 0.23em;\">Nubian<span style=\"font-size: 0.8em; font-weight: bold; border-radius: 0.35em; vertical-align: middle; margin-left: 0.5rem\">PROPN\n",
       "</span>\n",
       "</bgr><bgr class=\"entity\" style=\"background:rgb(127,170,190) ; padding: 0.1em 0.1em; margin: 0 0.15em; border-radius: 0.23em;\">Desert<span style=\"font-size: 0.8em; font-weight: bold; border-radius: 0.35em; vertical-align: middle; margin-left: 0.5rem\">PROPN\n",
       "</span>\n",
       "</bgr> to<bgr class=\"entity\" style=\"background:rgb(127,170,190) ; padding: 0.1em 0.1em; margin: 0 0.15em; border-radius: 0.23em;\">Cairo<span style=\"font-size: 0.8em; font-weight: bold; border-radius: 0.35em; vertical-align: middle; margin-left: 0.5rem\">PROPN\n",
       "</span>\n",
       "</bgr> and its large<bgr class=\"entity\" style=\"background:rgb(134,153,120) ; padding: 0.1em 0.1em; margin: 0 0.15em; border-radius: 0.23em;\">delta<span style=\"font-size: 0.8em; font-weight: bold; border-radius: 0.35em; vertical-align: middle; margin-left: 0.5rem\">NOUN\n",
       "</span>\n",
       "</bgr>, and the<bgr class=\"entity\" style=\"background:rgb(134,153,120) ; padding: 0.1em 0.1em; margin: 0 0.15em; border-radius: 0.23em;\">river<span style=\"font-size: 0.8em; font-weight: bold; border-radius: 0.35em; vertical-align: middle; margin-left: 0.5rem\">NOUN\n",
       "</span>\n",
       "</bgr> flows into the<bgr class=\"entity\" style=\"background:rgb(127,170,190) ; padding: 0.1em 0.1em; margin: 0 0.15em; border-radius: 0.23em;\">Mediterranean<span style=\"font-size: 0.8em; font-weight: bold; border-radius: 0.35em; vertical-align: middle; margin-left: 0.5rem\">PROPN\n",
       "</span>\n",
       "</bgr><bgr class=\"entity\" style=\"background:rgb(127,170,190) ; padding: 0.1em 0.1em; margin: 0 0.15em; border-radius: 0.23em;\">Sea<span style=\"font-size: 0.8em; font-weight: bold; border-radius: 0.35em; vertical-align: middle; margin-left: 0.5rem\">PROPN\n",
       "</span>\n",
       "</bgr> at<bgr class=\"entity\" style=\"background:rgb(127,170,190) ; padding: 0.1em 0.1em; margin: 0 0.15em; border-radius: 0.23em;\">Alexandria<span style=\"font-size: 0.8em; font-weight: bold; border-radius: 0.35em; vertical-align: middle; margin-left: 0.5rem\">PROPN\n",
       "</span>\n",
       "</bgr>. Egyptian<bgr class=\"entity\" style=\"background:rgb(134,153,120) ; padding: 0.1em 0.1em; margin: 0 0.15em; border-radius: 0.23em;\">civilization<span style=\"font-size: 0.8em; font-weight: bold; border-radius: 0.35em; vertical-align: middle; margin-left: 0.5rem\">NOUN\n",
       "</span>\n",
       "</bgr> and Sudanese<bgr class=\"entity\" style=\"background:rgb(134,153,120) ; padding: 0.1em 0.1em; margin: 0 0.15em; border-radius: 0.23em;\">kingdoms<span style=\"font-size: 0.8em; font-weight: bold; border-radius: 0.35em; vertical-align: middle; margin-left: 0.5rem\">NOUN\n",
       "</span>\n",
       "</bgr> have depended on the<bgr class=\"entity\" style=\"background:rgb(134,153,120) ; padding: 0.1em 0.1em; margin: 0 0.15em; border-radius: 0.23em;\">river<span style=\"font-size: 0.8em; font-weight: bold; border-radius: 0.35em; vertical-align: middle; margin-left: 0.5rem\">NOUN\n",
       "</span>\n",
       "</bgr> and its annual<bgr class=\"entity\" style=\"background:rgb(134,153,120) ; padding: 0.1em 0.1em; margin: 0 0.15em; border-radius: 0.23em;\">flooding<span style=\"font-size: 0.8em; font-weight: bold; border-radius: 0.35em; vertical-align: middle; margin-left: 0.5rem\">NOUN\n",
       "</span>\n",
       "</bgr> since ancient<bgr class=\"entity\" style=\"background:rgb(134,153,120) ; padding: 0.1em 0.1em; margin: 0 0.15em; border-radius: 0.23em;\">times<span style=\"font-size: 0.8em; font-weight: bold; border-radius: 0.35em; vertical-align: middle; margin-left: 0.5rem\">NOUN\n",
       "</span>\n",
       "</bgr>. Most of the<bgr class=\"entity\" style=\"background:rgb(134,153,120) ; padding: 0.1em 0.1em; margin: 0 0.15em; border-radius: 0.23em;\">population<span style=\"font-size: 0.8em; font-weight: bold; border-radius: 0.35em; vertical-align: middle; margin-left: 0.5rem\">NOUN\n",
       "</span>\n",
       "</bgr> and<bgr class=\"entity\" style=\"background:rgb(134,153,120) ; padding: 0.1em 0.1em; margin: 0 0.15em; border-radius: 0.23em;\">cities<span style=\"font-size: 0.8em; font-weight: bold; border-radius: 0.35em; vertical-align: middle; margin-left: 0.5rem\">NOUN\n",
       "</span>\n",
       "</bgr> of<bgr class=\"entity\" style=\"background:rgb(127,170,190) ; padding: 0.1em 0.1em; margin: 0 0.15em; border-radius: 0.23em;\">Egypt<span style=\"font-size: 0.8em; font-weight: bold; border-radius: 0.35em; vertical-align: middle; margin-left: 0.5rem\">PROPN\n",
       "</span>\n",
       "</bgr> lie along those<bgr class=\"entity\" style=\"background:rgb(134,153,120) ; padding: 0.1em 0.1em; margin: 0 0.15em; border-radius: 0.23em;\">parts<span style=\"font-size: 0.8em; font-weight: bold; border-radius: 0.35em; vertical-align: middle; margin-left: 0.5rem\">NOUN\n",
       "</span>\n",
       "</bgr> of the<bgr class=\"entity\" style=\"background:rgb(127,170,190) ; padding: 0.1em 0.1em; margin: 0 0.15em; border-radius: 0.23em;\">Nile<span style=\"font-size: 0.8em; font-weight: bold; border-radius: 0.35em; vertical-align: middle; margin-left: 0.5rem\">PROPN\n",
       "</span>\n",
       "</bgr><bgr class=\"entity\" style=\"background:rgb(134,153,120) ; padding: 0.1em 0.1em; margin: 0 0.15em; border-radius: 0.23em;\">valley<span style=\"font-size: 0.8em; font-weight: bold; border-radius: 0.35em; vertical-align: middle; margin-left: 0.5rem\">NOUN\n",
       "</span>\n",
       "</bgr><bgr class=\"entity\" style=\"background:rgb(134,153,120) ; padding: 0.1em 0.1em; margin: 0 0.15em; border-radius: 0.23em;\">north<span style=\"font-size: 0.8em; font-weight: bold; border-radius: 0.35em; vertical-align: middle; margin-left: 0.5rem\">NOUN\n",
       "</span>\n",
       "</bgr> of the<bgr class=\"entity\" style=\"background:rgb(127,170,190) ; padding: 0.1em 0.1em; margin: 0 0.15em; border-radius: 0.23em;\">Aswan<span style=\"font-size: 0.8em; font-weight: bold; border-radius: 0.35em; vertical-align: middle; margin-left: 0.5rem\">PROPN\n",
       "</span>\n",
       "</bgr><bgr class=\"entity\" style=\"background:rgb(127,170,190) ; padding: 0.1em 0.1em; margin: 0 0.15em; border-radius: 0.23em;\">Dam<span style=\"font-size: 0.8em; font-weight: bold; border-radius: 0.35em; vertical-align: middle; margin-left: 0.5rem\">PROPN\n",
       "</span>\n",
       "</bgr>. Nearly all the cultural and historical<bgr class=\"entity\" style=\"background:rgb(134,153,120) ; padding: 0.1em 0.1em; margin: 0 0.15em; border-radius: 0.23em;\">sites<span style=\"font-size: 0.8em; font-weight: bold; border-radius: 0.35em; vertical-align: middle; margin-left: 0.5rem\">NOUN\n",
       "</span>\n",
       "</bgr> of<bgr class=\"entity\" style=\"background:rgb(127,170,190) ; padding: 0.1em 0.1em; margin: 0 0.15em; border-radius: 0.23em;\">Ancient<span style=\"font-size: 0.8em; font-weight: bold; border-radius: 0.35em; vertical-align: middle; margin-left: 0.5rem\">PROPN\n",
       "</span>\n",
       "</bgr><bgr class=\"entity\" style=\"background:rgb(127,170,190) ; padding: 0.1em 0.1em; margin: 0 0.15em; border-radius: 0.23em;\">Egypt<span style=\"font-size: 0.8em; font-weight: bold; border-radius: 0.35em; vertical-align: middle; margin-left: 0.5rem\">PROPN\n",
       "</span>\n",
       "</bgr> developed and are found along<bgr class=\"entity\" style=\"background:rgb(134,153,120) ; padding: 0.1em 0.1em; margin: 0 0.15em; border-radius: 0.23em;\">river<span style=\"font-size: 0.8em; font-weight: bold; border-radius: 0.35em; vertical-align: middle; margin-left: 0.5rem\">NOUN\n",
       "</span>\n",
       "</bgr><bgr class=\"entity\" style=\"background:rgb(134,153,120) ; padding: 0.1em 0.1em; margin: 0 0.15em; border-radius: 0.23em;\">banks<span style=\"font-size: 0.8em; font-weight: bold; border-radius: 0.35em; vertical-align: middle; margin-left: 0.5rem\">NOUN\n",
       "</span>\n",
       "</bgr>. The<bgr class=\"entity\" style=\"background:rgb(127,170,190) ; padding: 0.1em 0.1em; margin: 0 0.15em; border-radius: 0.23em;\">Nile<span style=\"font-size: 0.8em; font-weight: bold; border-radius: 0.35em; vertical-align: middle; margin-left: 0.5rem\">PROPN\n",
       "</span>\n",
       "</bgr> is, with the<bgr class=\"entity\" style=\"background:rgb(127,170,190) ; padding: 0.1em 0.1em; margin: 0 0.15em; border-radius: 0.23em;\">Rhône<span style=\"font-size: 0.8em; font-weight: bold; border-radius: 0.35em; vertical-align: middle; margin-left: 0.5rem\">PROPN\n",
       "</span>\n",
       "</bgr> and<bgr class=\"entity\" style=\"background:rgb(127,170,190) ; padding: 0.1em 0.1em; margin: 0 0.15em; border-radius: 0.23em;\">Po<span style=\"font-size: 0.8em; font-weight: bold; border-radius: 0.35em; vertical-align: middle; margin-left: 0.5rem\">PROPN\n",
       "</span>\n",
       "</bgr>, one of the three<bgr class=\"entity\" style=\"background:rgb(127,170,190) ; padding: 0.1em 0.1em; margin: 0 0.15em; border-radius: 0.23em;\">Mediterranean<span style=\"font-size: 0.8em; font-weight: bold; border-radius: 0.35em; vertical-align: middle; margin-left: 0.5rem\">PROPN\n",
       "</span>\n",
       "</bgr><bgr class=\"entity\" style=\"background:rgb(134,153,120) ; padding: 0.1em 0.1em; margin: 0 0.15em; border-radius: 0.23em;\">rivers<span style=\"font-size: 0.8em; font-weight: bold; border-radius: 0.35em; vertical-align: middle; margin-left: 0.5rem\">NOUN\n",
       "</span>\n",
       "</bgr> with the largest<bgr class=\"entity\" style=\"background:rgb(134,153,120) ; padding: 0.1em 0.1em; margin: 0 0.15em; border-radius: 0.23em;\">water<span style=\"font-size: 0.8em; font-weight: bold; border-radius: 0.35em; vertical-align: middle; margin-left: 0.5rem\">NOUN\n",
       "</span>\n",
       "</bgr><bgr class=\"entity\" style=\"background:rgb(134,153,120) ; padding: 0.1em 0.1em; margin: 0 0.15em; border-radius: 0.23em;\">discharge<span style=\"font-size: 0.8em; font-weight: bold; border-radius: 0.35em; vertical-align: middle; margin-left: 0.5rem\">NOUN\n",
       "</span>\n",
       "</bgr>.\n",
       "</div>"
      ],
      "text/plain": [
       "<IPython.core.display.HTML object>"
      ]
     },
     "execution_count": 13,
     "metadata": {},
     "output_type": "execute_result"
    }
   ],
   "source": [
    "# We need to import a library that can display the text as HTML\n",
    "# so that we can mark it up as we want\n",
    "from IPython.display import HTML\n",
    "\n",
    "# Read in the text and store it as a variable\n",
    "example_text =  open('Nile.txt').read()\n",
    "\n",
    "# Pass the text through the tagger\n",
    "tagged_text = nlp(example_text)\n",
    "\n",
    "\n",
    "# We need to create a function that can take a token as input\n",
    "# and change its background colour, and add a tag type next to it.\n",
    "def mark_up(token, tags = None):\n",
    "    colours = [\n",
    "    \"134,153,120\",\n",
    "    \"127,170,190\",\n",
    "    \"194,103,99\",\n",
    "    \"227,203,139\",\n",
    "    \"225,171,108\",\n",
    "    ]\n",
    "    colour_lookup = dict(zip(tags, colours))\n",
    "    \n",
    "    if token.pos_ in tags:\n",
    "        begin_bkgr = f'<bgr class=\"entity\" style=\"background:rgb({colour_lookup[token.pos_]}) ; padding: 0.1em 0.1em; margin: 0 0.15em; border-radius: 0.23em;\">'\n",
    "        end_bkgr = '\\n</bgr>'\n",
    "        begin_span = '<span style=\"font-size: 0.8em; font-weight: bold; border-radius: 0.35em; vertical-align: middle; margin-left: 0.5rem\">'\n",
    "        end_span = '\\n</span>'\n",
    "        return f\"{begin_bkgr}{token}{begin_span}{token.pos_}{end_span}{end_bkgr}\"\n",
    "    if token.pos_ == \"PUNCT\":\n",
    "        return f\"{token.text}\"\n",
    "    return f\" {token.text}\"\n",
    "\n",
    "\n",
    "# This function loops over the text, passes each word to the \"markup\" function \n",
    "# and then displays them all together\n",
    "def visualize(tagged_text, tags = None):\n",
    "    start_div = f'<div class=\"entities\" style=\"line-height: 2.0; direction: ltr\">'\n",
    "    end_div = '\\n</div>'\n",
    "    html = start_div\n",
    "    for token in tagged_text:\n",
    "        html += mark_up(token, tags)\n",
    "    html += end_div\n",
    "    return HTML(html)\n",
    "\n",
    "visualize(tagged_text, [\"NOUN\", \"PROPN\"])"
   ]
  },
  {
   "cell_type": "markdown",
   "id": "53de5564-3c03-4a94-ac5f-16e7d2ad4b85",
   "metadata": {},
   "source": [
    "## Histograms of Part Of Speech frequency"
   ]
  },
  {
   "cell_type": "markdown",
   "id": "567b3e3c-0fd7-45a6-809f-8dae1759b8ae",
   "metadata": {},
   "source": [
    "To create plots in python we need a package called matplotlib.  We need to install this first."
   ]
  },
  {
   "cell_type": "code",
   "execution_count": 14,
   "id": "77edcd3e-1b19-455a-abc3-7da2d968ac06",
   "metadata": {
    "tags": []
   },
   "outputs": [
    {
     "name": "stdout",
     "output_type": "stream",
     "text": [
      "Requirement already satisfied: matplotlib in /home/longr/.conda/envs/jupyter_pymusas/lib/python3.11/site-packages (3.7.2)\n",
      "Requirement already satisfied: contourpy>=1.0.1 in /home/longr/.conda/envs/jupyter_pymusas/lib/python3.11/site-packages (from matplotlib) (1.1.0)\n",
      "Requirement already satisfied: cycler>=0.10 in /home/longr/.conda/envs/jupyter_pymusas/lib/python3.11/site-packages (from matplotlib) (0.11.0)\n",
      "Requirement already satisfied: fonttools>=4.22.0 in /home/longr/.conda/envs/jupyter_pymusas/lib/python3.11/site-packages (from matplotlib) (4.40.0)\n",
      "Requirement already satisfied: kiwisolver>=1.0.1 in /home/longr/.conda/envs/jupyter_pymusas/lib/python3.11/site-packages (from matplotlib) (1.4.4)\n",
      "Requirement already satisfied: numpy>=1.20 in /home/longr/.conda/envs/jupyter_pymusas/lib/python3.11/site-packages (from matplotlib) (1.25.1)\n",
      "Requirement already satisfied: packaging>=20.0 in /home/longr/.conda/envs/jupyter_pymusas/lib/python3.11/site-packages (from matplotlib) (23.0)\n",
      "Requirement already satisfied: pillow>=6.2.0 in /home/longr/.conda/envs/jupyter_pymusas/lib/python3.11/site-packages (from matplotlib) (10.0.0)\n",
      "Requirement already satisfied: pyparsing<3.1,>=2.3.1 in /home/longr/.conda/envs/jupyter_pymusas/lib/python3.11/site-packages (from matplotlib) (3.0.9)\n",
      "Requirement already satisfied: python-dateutil>=2.7 in /home/longr/.conda/envs/jupyter_pymusas/lib/python3.11/site-packages (from matplotlib) (2.8.2)\n",
      "Requirement already satisfied: six>=1.5 in /home/longr/.conda/envs/jupyter_pymusas/lib/python3.11/site-packages (from python-dateutil>=2.7->matplotlib) (1.16.0)\n"
     ]
    }
   ],
   "source": [
    "# Install a pip package in the current Jupyter kernel\n",
    "import sys \n",
    "!{sys.executable} -m pip install matplotlib"
   ]
  },
  {
   "cell_type": "code",
   "execution_count": 15,
   "id": "fe69ff09-2652-40f2-a07c-effb3f8ae56f",
   "metadata": {
    "tags": []
   },
   "outputs": [
    {
     "data": {
      "text/plain": [
       "<Axes: xlabel='POS'>"
      ]
     },
     "execution_count": 15,
     "metadata": {},
     "output_type": "execute_result"
    },
    {
     "data": {
      "image/png": "[encoded data removed]",
      "text/plain": [
       "<Figure size 640x480 with 1 Axes>"
      ]
     },
     "metadata": {},
     "output_type": "display_data"
    }
   ],
   "source": [
    "# we need to load in the plotting and dataframes library\n",
    "import matplotlib.pyplot as plt\n",
    "import pandas\n",
    "\n",
    "# create the plot\n",
    "data = df\n",
    "fig, ax = plt.subplots()\n",
    "\n",
    "# Extract the column we need, \"POS\", and count how many times each\n",
    "# POS appears, and normalise the values\n",
    "data['POS'].value_counts(normalize=True).plot(ax=ax, kind='bar')"
   ]
  },
  {
   "cell_type": "markdown",
   "id": "26b3eff8-cada-4c84-9b77-89961ea94a35",
   "metadata": {},
   "source": [
    "We can also do the same with the text and count how many times each word appears in the text"
   ]
  },
  {
   "cell_type": "code",
   "execution_count": 16,
   "id": "13cfe72d-d6ea-4178-b4a2-ce9529698f1e",
   "metadata": {
    "tags": []
   },
   "outputs": [
    {
     "data": {
      "text/plain": [
       "<Axes: xlabel='Text'>"
      ]
     },
     "execution_count": 16,
     "metadata": {},
     "output_type": "execute_result"
    },
    {
     "data": {
      "image/png": "[encoded data removed]",
      "text/plain": [
       "<Figure size 640x480 with 1 Axes>"
      ]
     },
     "metadata": {},
     "output_type": "display_data"
    }
   ],
   "source": [
    "\n",
    "# Extract the column we need, \"POS\", and count how many times each\n",
    "# POS appears.   This time we need to limit the number of words displayed\n",
    "# otherwise the plot will have a long tail.\n",
    "# We use head(n=20) to display the top 20 words used.\n",
    "fig, ax = plt.subplots()\n",
    "df['Text'].str.lower().value_counts().head(n=20).plot(ax=ax, kind='bar')"
   ]
  },
  {
   "cell_type": "markdown",
   "id": "5c6625d3-e4c5-4237-8a2b-702f2d1fafc6",
   "metadata": {},
   "source": [
    "Unfortunatly punctuation is some of the highest usage.  If we do not want punctuation to be counted in the word\n",
    "count, we can exclude it as so:"
   ]
  },
  {
   "cell_type": "code",
   "execution_count": 17,
   "id": "d2a1a013-1363-44f3-9b02-2634657b3313",
   "metadata": {
    "tags": []
   },
   "outputs": [
    {
     "data": {
      "text/plain": [
       "<Axes: xlabel='Text'>"
      ]
     },
     "execution_count": 17,
     "metadata": {},
     "output_type": "execute_result"
    },
    {
     "data": {
      "image/png": "[encoded data removed]",
      "text/plain": [
       "<Figure size 640x480 with 1 Axes>"
      ]
     },
     "metadata": {},
     "output_type": "display_data"
    }
   ],
   "source": [
    "fig, ax = plt.subplots()\n",
    "df.loc[df['POS']!='PUNCT', 'Text'].str.lower().value_counts().head(n=20).plot(ax=ax, kind='bar')"
   ]
  },
  {
   "cell_type": "markdown",
   "id": "30250ef0-fe4e-47e3-9bc0-651d21b0c48c",
   "metadata": {},
   "source": [
    "## Comparison of frequency\n",
    "\n",
    "One useful analysis is to compare the frequency of words apperances in two different texts.  To do this we will need to load in both sets (the new one is the wikipedia article on the river Danube).\n",
    "\n",
    "We will load in both texts, and pass them through the tagger, then we will save just the words and P.O.S. from each text."
   ]
  },
  {
   "cell_type": "code",
   "execution_count": 18,
   "id": "eb048f88-4fc9-41e7-b2b0-a7e7fdcf35f8",
   "metadata": {
    "tags": []
   },
   "outputs": [],
   "source": [
    "import pandas as pd\n",
    "\n",
    "text = []\n",
    "pos = []\n",
    "\n",
    "with open('Nile.txt') as f:\n",
    "    contents = f.read()\n",
    "    output_doc = nlp(contents)\n",
    "    for token in output_doc:\n",
    "        text.append(token.text)\n",
    "        pos.append(token.pos_)\n",
    "\n",
    "nile_data = pd.DataFrame({'Text': text, 'POS': pos})\n",
    "\n",
    "\n",
    "text = []\n",
    "pos = []\n",
    "    \n",
    "with open('danube.txt') as f:\n",
    "    contents = f.read()\n",
    "    output_doc = nlp(contents)\n",
    "    for token in output_doc:\n",
    "        text.append(token.text)\n",
    "        pos.append(token.pos_)\n",
    "\n",
    "danube_data = pd.DataFrame({'Text': text, 'POS': pos})\n"
   ]
  },
  {
   "cell_type": "markdown",
   "id": "3ecaeba9-4420-408d-bd4e-ec11c4319b24",
   "metadata": {},
   "source": [
    "Now we need to clean up the text.  We will place a filter on the dataframe to exclude any row where the POS column is either 'PUNCT' or 'SPACE' to remove white space and punctuation.   Then we will ensure all text is lower case and count how many occurances of each type there are."
   ]
  },
  {
   "cell_type": "code",
   "execution_count": 19,
   "id": "ee470876-98c0-4f8b-a555-4e2304f528b9",
   "metadata": {
    "tags": []
   },
   "outputs": [],
   "source": [
    "nile_data_cleaned = nile_data.loc[(nile_data['POS']!='PUNCT') & (nile_data['POS'] != 'SPACE'), 'Text'].str.lower().value_counts()\n",
    "\n",
    "danube_data_cleaned = danube_data.loc[(danube_data['POS']!='PUNCT') & (danube_data['POS']!='SPACE'), 'Text'].str.lower().value_counts()"
   ]
  },
  {
   "cell_type": "markdown",
   "id": "b2f199e4-a09d-49ac-9ed6-0e12b80a2b8a",
   "metadata": {},
   "source": [
    "Now we need to combine the datasets and keep only entries where the word occurs in both text.  We then limit this to the top 20 words."
   ]
  },
  {
   "cell_type": "code",
   "execution_count": 20,
   "id": "bd1318cd-125b-44e8-92ba-d5cf3644a44a",
   "metadata": {
    "tags": []
   },
   "outputs": [
    {
     "data": {
      "image/png": "[encoded data removed]",
      "text/plain": [
       "<Figure size 640x480 with 1 Axes>"
      ]
     },
     "metadata": {},
     "output_type": "display_data"
    }
   ],
   "source": [
    "comparison = pd.concat([nile_data_cleaned, danube_data_cleaned], axis=1, join = \"inner\").head(n=20)\n",
    "\n",
    "comparison.columns = ['Nile', 'Danube']\n",
    "\n",
    "import numpy as np\n",
    "import matplotlib.pyplot as plt\n",
    "\n",
    "plt.barh(comparison.index[::-1], comparison[\"Nile\"][::-1], align='center', color = 'y')\n",
    "plt.barh(comparison.index[::-1], -comparison[\"Danube\"][::-1], align='center', color = 'c')\n",
    "plt.title(\"Comparison\")\n",
    "plt.ylabel(\"Counts\")\n",
    "plt.xlabel(\"Tokens\")\n",
    "plt.show()\n",
    "#help(plt.barh)\n",
    "\n",
    "\n"
   ]
  },
  {
   "cell_type": "markdown",
   "id": "f591b823-ceab-4988-b261-9ec23380f25b",
   "metadata": {},
   "source": [
    "## Keyness value"
   ]
  },
  {
   "cell_type": "code",
   "execution_count": 21,
   "id": "6fbd4b67-d211-4ecc-9a81-6e51b41e7acd",
   "metadata": {
    "tags": []
   },
   "outputs": [],
   "source": [
    "import math \n",
    "\n",
    "def keyness(a, b, c, d):\n",
    "    E1 = c * (a + b) / (c + d)\n",
    "    E2 = d * (a + b) / (c + d)\n",
    "    G2 = 2 * ( (a*math.log(a/E1) ) + (b * math.log(b/E2)) )\n",
    "    return G2\n",
    "    \n",
    "keyness(250, 500, 500, 700)\n",
    "\n",
    "\n",
    "danube_total = danube_data_cleaned.sum()\n",
    "nile_total = nile_data_cleaned.sum()\n",
    "\n",
    "comparison[\"keyness\"] = comparison.apply(lambda x: keyness(x[\"Nile\"], x[\"Danube\"], nile_total, danube_total), axis=1)"
   ]
  },
  {
   "cell_type": "code",
   "execution_count": 22,
   "id": "92f5d5a9-a722-41a1-ab0b-128d2061e90e",
   "metadata": {
    "tags": []
   },
   "outputs": [
    {
     "name": "stdout",
     "output_type": "stream",
     "text": [
      "Requirement already satisfied: wordcloud in /home/longr/.conda/envs/jupyter_pymusas/lib/python3.11/site-packages (1.9.2)\n",
      "Requirement already satisfied: numpy>=1.6.1 in /home/longr/.conda/envs/jupyter_pymusas/lib/python3.11/site-packages (from wordcloud) (1.25.1)\n",
      "Requirement already satisfied: pillow in /home/longr/.conda/envs/jupyter_pymusas/lib/python3.11/site-packages (from wordcloud) (10.0.0)\n",
      "Requirement already satisfied: matplotlib in /home/longr/.conda/envs/jupyter_pymusas/lib/python3.11/site-packages (from wordcloud) (3.7.2)\n",
      "Requirement already satisfied: contourpy>=1.0.1 in /home/longr/.conda/envs/jupyter_pymusas/lib/python3.11/site-packages (from matplotlib->wordcloud) (1.1.0)\n",
      "Requirement already satisfied: cycler>=0.10 in /home/longr/.conda/envs/jupyter_pymusas/lib/python3.11/site-packages (from matplotlib->wordcloud) (0.11.0)\n",
      "Requirement already satisfied: fonttools>=4.22.0 in /home/longr/.conda/envs/jupyter_pymusas/lib/python3.11/site-packages (from matplotlib->wordcloud) (4.40.0)\n",
      "Requirement already satisfied: kiwisolver>=1.0.1 in /home/longr/.conda/envs/jupyter_pymusas/lib/python3.11/site-packages (from matplotlib->wordcloud) (1.4.4)\n",
      "Requirement already satisfied: packaging>=20.0 in /home/longr/.conda/envs/jupyter_pymusas/lib/python3.11/site-packages (from matplotlib->wordcloud) (23.0)\n",
      "Requirement already satisfied: pyparsing<3.1,>=2.3.1 in /home/longr/.conda/envs/jupyter_pymusas/lib/python3.11/site-packages (from matplotlib->wordcloud) (3.0.9)\n",
      "Requirement already satisfied: python-dateutil>=2.7 in /home/longr/.conda/envs/jupyter_pymusas/lib/python3.11/site-packages (from matplotlib->wordcloud) (2.8.2)\n",
      "Requirement already satisfied: six>=1.5 in /home/longr/.conda/envs/jupyter_pymusas/lib/python3.11/site-packages (from python-dateutil>=2.7->matplotlib->wordcloud) (1.16.0)\n"
     ]
    }
   ],
   "source": [
    "# Install a pip package in the current Jupyter kernel\n",
    "import sys \n",
    "!{sys.executable} -m pip install wordcloud\n",
    "from wordcloud import WordCloud"
   ]
  },
  {
   "cell_type": "code",
   "execution_count": 23,
   "id": "b32b444e-9bc8-479d-a361-d586600a33d2",
   "metadata": {
    "tags": []
   },
   "outputs": [
    {
     "data": {
      "image/png": "[encoded data removed]",
      "text/plain": [
       "<Figure size 640x480 with 1 Axes>"
      ]
     },
     "metadata": {},
     "output_type": "display_data"
    }
   ],
   "source": [
    "wordcloud = WordCloud(background_color=\"white\").generate_from_frequencies(comparison[\"keyness\"])\n",
    "plt.imshow(wordcloud, interpolation='bilinear')\n",
    "plt.axis(\"off\")\n",
    "plt.show()"
   ]
  }
 ],
 "metadata": {
  "kernelspec": {
   "display_name": "Python 3 (ipykernel)",
   "language": "python",
   "name": "python3"
  },
  "language_info": {
   "codemirror_mode": {
    "name": "ipython",
    "version": 3
   },
   "file_extension": ".py",
   "mimetype": "text/x-python",
   "name": "python",
   "nbconvert_exporter": "python",
   "pygments_lexer": "ipython3",
   "version": "3.11.4"
  }
 },
 "nbformat": 4,
 "nbformat_minor": 5
}
